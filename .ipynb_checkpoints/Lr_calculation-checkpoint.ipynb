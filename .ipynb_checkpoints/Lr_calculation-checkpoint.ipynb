{
 "cells": [
  {
   "cell_type": "code",
   "execution_count": 1,
   "id": "c235e7ae",
   "metadata": {},
   "outputs": [],
   "source": [
    "#Lr result"
   ]
  },
  {
   "cell_type": "code",
   "execution_count": 2,
   "id": "d7982bc6",
   "metadata": {},
   "outputs": [],
   "source": [
    "import utilities as ut\n",
    "import pandas as pd\n",
    "import matplotlib.pyplot as plt\n",
    "import Complexity as cx\n",
    "import networkx as nx"
   ]
  },
  {
   "cell_type": "code",
   "execution_count": 3,
   "id": "43d2a1e4",
   "metadata": {},
   "outputs": [],
   "source": [
    "#load_networks\n",
    "index = [\"dolphins\",\"pdzbase\",\"GBPT_train\",\n",
    "         \"hamsterster\",\"Roget\",\"flight\"]\n",
    "load_file_path = [\"real_networks/processed/\"+item+\".csv\" for item in index]\n",
    "df = [pd.read_csv(item) for item in load_file_path]\n",
    "networks = [ut.df_to_network(item) for item in df]\n",
    "\n",
    "index_bus = [\"london\",\"paris\",\"berlin\",\"sydney\",\"detroit\",\"beijing\"]\n",
    "load_file_path = [\"bus/processed/\"+item+\"_bus.csv\" for item in index_bus]\n",
    "df_bus = [pd.read_csv(item) for item in load_file_path]\n",
    "networks_bus = [ut.df_to_network(item) for item in df_bus]\n",
    "load_file_path = [\"real_networks/processed/modified_bus/m_\"+item+\".csv\" for item in index_bus]\n",
    "df_bus_m = [pd.read_csv(item) for item in load_file_path]\n",
    "networks_bus_m = [ut.df_to_network(item) for item in df_bus_m]"
   ]
  },
  {
   "cell_type": "code",
   "execution_count": 5,
   "id": "12c62363",
   "metadata": {},
   "outputs": [],
   "source": [
    "sample = 10\n",
    "niter_max = 1000"
   ]
  },
  {
   "cell_type": "code",
   "execution_count": 31,
   "id": "f4452f21",
   "metadata": {},
   "outputs": [
    {
     "data": {
      "text/plain": [
       "2.6606557377049183"
      ]
     },
     "execution_count": 31,
     "metadata": {},
     "output_type": "execute_result"
    }
   ],
   "source": [
    "#dolphin\n",
    "G = networks[0].copy()\n",
    "n = len(G.nodes())\n",
    "m = len(G.edges())\n",
    "dol_result = 0\n",
    "c = 0\n",
    "niter = 0\n",
    "while c != sample:\n",
    "    niter = niter+1\n",
    "    random_graph = nx.gnm_random_graph(n,m)\n",
    "    if niter<niter_max:\n",
    "        if nx.is_connected(random_graph):\n",
    "            c=c+1\n",
    "            l = nx.average_shortest_path_length(random_graph)\n",
    "            dol_result = dol_result + l\n",
    "    else:\n",
    "        G1 = G.copy()\n",
    "        G1 = ut.single_link_rewiring(G1,1)\n",
    "        G1 = ut.single_link_rewiring(G1,1)\n",
    "        G1 = ut.single_link_rewiring(G1,1)\n",
    "        l = nx.average_shortest_path_length(G1)\n",
    "        dol_result = dol_result + l\n",
    "        c=c+1\n",
    "dol_result = dol_result/sample\n",
    "dol_result"
   ]
  },
  {
   "cell_type": "code",
   "execution_count": 32,
   "id": "cac1ca65",
   "metadata": {},
   "outputs": [
    {
     "data": {
      "text/plain": [
       "5.70945652173913"
      ]
     },
     "execution_count": 32,
     "metadata": {},
     "output_type": "execute_result"
    }
   ],
   "source": [
    "#pdz\n",
    "G = networks[1].copy()\n",
    "n = len(G.nodes())\n",
    "m = len(G.edges())\n",
    "pdz_result = 0\n",
    "c = 0\n",
    "niter = 0\n",
    "while c != sample:\n",
    "    niter = niter+1\n",
    "    random_graph = nx.gnm_random_graph(n,m)\n",
    "    if niter<niter_max:\n",
    "        if nx.is_connected(random_graph):\n",
    "            c=c+1\n",
    "            l = nx.average_shortest_path_length(random_graph)\n",
    "            pdz_result = pdz_result + l\n",
    "    else:\n",
    "        G1 = G.copy()\n",
    "        G1 = ut.single_link_rewiring(G1,1)\n",
    "        G1 = ut.single_link_rewiring(G1,1)\n",
    "        G1 = ut.single_link_rewiring(G1,1)\n",
    "        l = nx.average_shortest_path_length(G1)\n",
    "        pdz_result = pdz_result + l\n",
    "        c=c+1\n",
    "pdz_result = pdz_result/sample\n",
    "pdz_result"
   ]
  },
  {
   "cell_type": "code",
   "execution_count": 33,
   "id": "11e1b413",
   "metadata": {},
   "outputs": [
    {
     "data": {
      "text/plain": [
       "5.190322143609815"
      ]
     },
     "execution_count": 33,
     "metadata": {},
     "output_type": "execute_result"
    }
   ],
   "source": [
    "#GBPT\n",
    "G = networks[2].copy()\n",
    "n = len(G.nodes())\n",
    "m = len(G.edges())\n",
    "GBPT_result = 0\n",
    "c = 0\n",
    "niter = 0\n",
    "while c != sample:\n",
    "    niter = niter+1\n",
    "    random_graph = nx.gnm_random_graph(n,m)\n",
    "    if niter<niter_max:\n",
    "        if nx.is_connected(random_graph):\n",
    "            c=c+1\n",
    "            l = nx.average_shortest_path_length(random_graph)\n",
    "            GBPT_result = GBPT_result + l\n",
    "    else:\n",
    "        G1 = G.copy()\n",
    "        G1 = ut.single_link_rewiring(G1,1)\n",
    "        G1 = ut.single_link_rewiring(G1,1)\n",
    "        G1 = ut.single_link_rewiring(G1,1)\n",
    "        l = nx.average_shortest_path_length(G1)\n",
    "        GBPT_result = GBPT_result + l\n",
    "        c=c+1\n",
    "GBPT_result = GBPT_result/sample\n",
    "GBPT_result"
   ]
  },
  {
   "cell_type": "code",
   "execution_count": 34,
   "id": "06954564",
   "metadata": {},
   "outputs": [
    {
     "data": {
      "text/plain": [
       "3.306369052767882"
      ]
     },
     "execution_count": 34,
     "metadata": {},
     "output_type": "execute_result"
    }
   ],
   "source": [
    "#hamsterster\n",
    "G = networks[3].copy()\n",
    "n = len(G.nodes())\n",
    "m = len(G.edges())\n",
    "ham_result = 0\n",
    "c = 0\n",
    "niter = 0\n",
    "while c != sample:\n",
    "    niter = niter+1\n",
    "    random_graph = nx.gnm_random_graph(n,m)\n",
    "    if niter<niter_max:\n",
    "        if nx.is_connected(random_graph):\n",
    "            c=c+1\n",
    "            l = nx.average_shortest_path_length(random_graph)\n",
    "            ham_result = ham_result + l\n",
    "    else:\n",
    "        G1 = G.copy()\n",
    "        G1 = ut.single_link_rewiring(G1,1)\n",
    "        G1 = ut.single_link_rewiring(G1,1)\n",
    "        G1 = ut.single_link_rewiring(G1,1)\n",
    "        l = nx.average_shortest_path_length(G1)\n",
    "        ham_result = ham_result + l\n",
    "        c=c+1\n",
    "ham_result = ham_result/sample\n",
    "ham_result"
   ]
  },
  {
   "cell_type": "code",
   "execution_count": 35,
   "id": "21f0289b",
   "metadata": {},
   "outputs": [
    {
     "data": {
      "text/plain": [
       "3.68768441464497"
      ]
     },
     "execution_count": 35,
     "metadata": {},
     "output_type": "execute_result"
    }
   ],
   "source": [
    "#roget\n",
    "G = networks[4].copy()\n",
    "n = len(G.nodes())\n",
    "m = len(G.edges())\n",
    "rog_result = 0\n",
    "c = 0\n",
    "niter = 0\n",
    "while c != sample:\n",
    "    niter = niter+1\n",
    "    random_graph = nx.gnm_random_graph(n,m)\n",
    "    if niter<niter_max:\n",
    "        if nx.is_connected(random_graph):\n",
    "            c=c+1\n",
    "            l = nx.average_shortest_path_length(random_graph)\n",
    "            rog_result = rog_result + l\n",
    "    else:\n",
    "        G1 = G.copy()\n",
    "        G1 = ut.single_link_rewiring(G1,1)\n",
    "        G1 = ut.single_link_rewiring(G1,1)\n",
    "        G1 = ut.single_link_rewiring(G1,1)\n",
    "        l = nx.average_shortest_path_length(G1)\n",
    "        rog_result = rog_result + l\n",
    "        c=c+1\n",
    "rog_result = rog_result/sample\n",
    "rog_result"
   ]
  },
  {
   "cell_type": "code",
   "execution_count": null,
   "id": "42e89c9f",
   "metadata": {},
   "outputs": [],
   "source": [
    "#flight\n",
    "G = networks[5].copy()\n",
    "n = len(G.nodes())\n",
    "m = len(G.edges())\n",
    "fli_result = 0\n",
    "c = 0\n",
    "niter = 0\n",
    "while c != sample:\n",
    "    niter = niter+1\n",
    "    random_graph = nx.gnm_random_graph(n,m)\n",
    "    if niter<niter_max:\n",
    "        if nx.is_connected(random_graph):\n",
    "            c=c+1\n",
    "            l = nx.average_shortest_path_length(random_graph)\n",
    "            fli_result = fli_result + l\n",
    "    else:\n",
    "        G1 = G.copy()\n",
    "        G1 = ut.single_link_rewiring(G1,1)\n",
    "        G1 = ut.single_link_rewiring(G1,1)\n",
    "        G1 = ut.single_link_rewiring(G1,1)\n",
    "        l = nx.average_shortest_path_length(G1)\n",
    "        fli_result = fli_result + l\n",
    "        c=c+1\n",
    "fli_result = fli_result/sample\n",
    "fli_result"
   ]
  },
  {
   "cell_type": "code",
   "execution_count": 36,
   "id": "0e49b1af",
   "metadata": {},
   "outputs": [
    {
     "data": {
      "text/plain": [
       "9.083238876262735"
      ]
     },
     "execution_count": 36,
     "metadata": {},
     "output_type": "execute_result"
    }
   ],
   "source": [
    "#london\n",
    "G = networks_bus[0].copy()\n",
    "n = len(G.nodes())\n",
    "m = len(G.edges())\n",
    "lon_result = 0\n",
    "c = 0\n",
    "niter = 0\n",
    "while c != sample:\n",
    "    niter = niter+1\n",
    "    random_graph = nx.gnm_random_graph(n,m)\n",
    "    if niter<niter_max:\n",
    "        if nx.is_connected(random_graph):\n",
    "            c=c+1\n",
    "            l = nx.average_shortest_path_length(random_graph)\n",
    "            lon_result = lon_result + l\n",
    "    else:\n",
    "        G1 = G.copy()\n",
    "        G1 = ut.single_link_rewiring(G1,1)\n",
    "        G1 = ut.single_link_rewiring(G1,1)\n",
    "        G1 = ut.single_link_rewiring(G1,1)\n",
    "        l = nx.average_shortest_path_length(G1)\n",
    "        lon_result = lon_result + l\n",
    "        c=c+1\n",
    "lon_result = lon_result/sample\n",
    "lon_result"
   ]
  },
  {
   "cell_type": "code",
   "execution_count": 6,
   "id": "8ef6662b",
   "metadata": {},
   "outputs": [
    {
     "ename": "KeyboardInterrupt",
     "evalue": "",
     "output_type": "error",
     "traceback": [
      "\u001b[1;31m---------------------------------------------------------------------------\u001b[0m",
      "\u001b[1;31mKeyboardInterrupt\u001b[0m                         Traceback (most recent call last)",
      "\u001b[1;32m<ipython-input-6-3bda700de4bd>\u001b[0m in \u001b[0;36m<module>\u001b[1;34m\u001b[0m\n\u001b[0;32m     18\u001b[0m         \u001b[0mG1\u001b[0m \u001b[1;33m=\u001b[0m \u001b[0mut\u001b[0m\u001b[1;33m.\u001b[0m\u001b[0msingle_link_rewiring\u001b[0m\u001b[1;33m(\u001b[0m\u001b[0mG1\u001b[0m\u001b[1;33m,\u001b[0m\u001b[1;36m1\u001b[0m\u001b[1;33m)\u001b[0m\u001b[1;33m\u001b[0m\u001b[1;33m\u001b[0m\u001b[0m\n\u001b[0;32m     19\u001b[0m         \u001b[0mG1\u001b[0m \u001b[1;33m=\u001b[0m \u001b[0mut\u001b[0m\u001b[1;33m.\u001b[0m\u001b[0msingle_link_rewiring\u001b[0m\u001b[1;33m(\u001b[0m\u001b[0mG1\u001b[0m\u001b[1;33m,\u001b[0m\u001b[1;36m1\u001b[0m\u001b[1;33m)\u001b[0m\u001b[1;33m\u001b[0m\u001b[1;33m\u001b[0m\u001b[0m\n\u001b[1;32m---> 20\u001b[1;33m         \u001b[0mG1\u001b[0m \u001b[1;33m=\u001b[0m \u001b[0mut\u001b[0m\u001b[1;33m.\u001b[0m\u001b[0msingle_link_rewiring\u001b[0m\u001b[1;33m(\u001b[0m\u001b[0mG1\u001b[0m\u001b[1;33m,\u001b[0m\u001b[1;36m1\u001b[0m\u001b[1;33m)\u001b[0m\u001b[1;33m\u001b[0m\u001b[1;33m\u001b[0m\u001b[0m\n\u001b[0m\u001b[0;32m     21\u001b[0m         \u001b[0ml\u001b[0m \u001b[1;33m=\u001b[0m \u001b[0mnx\u001b[0m\u001b[1;33m.\u001b[0m\u001b[0maverage_shortest_path_length\u001b[0m\u001b[1;33m(\u001b[0m\u001b[0mG1\u001b[0m\u001b[1;33m)\u001b[0m\u001b[1;33m\u001b[0m\u001b[1;33m\u001b[0m\u001b[0m\n\u001b[0;32m     22\u001b[0m         \u001b[0mpar_result\u001b[0m \u001b[1;33m=\u001b[0m \u001b[0mpar_result\u001b[0m \u001b[1;33m+\u001b[0m \u001b[0ml\u001b[0m\u001b[1;33m\u001b[0m\u001b[1;33m\u001b[0m\u001b[0m\n",
      "\u001b[1;32m~\\Documents\\GitHub\\Project\\utilities.py\u001b[0m in \u001b[0;36msingle_link_rewiring\u001b[1;34m(G, prob)\u001b[0m\n\u001b[0;32m    333\u001b[0m             \u001b[0mremove_neighbor\u001b[0m \u001b[1;33m=\u001b[0m \u001b[0mrandom\u001b[0m\u001b[1;33m.\u001b[0m\u001b[0mchoice\u001b[0m\u001b[1;33m(\u001b[0m\u001b[0mneighbors\u001b[0m\u001b[1;33m)\u001b[0m\u001b[1;33m\u001b[0m\u001b[1;33m\u001b[0m\u001b[0m\n\u001b[0;32m    334\u001b[0m             \u001b[0mG1\u001b[0m\u001b[1;33m.\u001b[0m\u001b[0mremove_edge\u001b[0m\u001b[1;33m(\u001b[0m\u001b[0msource\u001b[0m\u001b[1;33m,\u001b[0m\u001b[0mremove_neighbor\u001b[0m\u001b[1;33m)\u001b[0m\u001b[1;33m\u001b[0m\u001b[1;33m\u001b[0m\u001b[0m\n\u001b[1;32m--> 335\u001b[1;33m             \u001b[1;32mif\u001b[0m \u001b[1;32mnot\u001b[0m \u001b[0mnx\u001b[0m\u001b[1;33m.\u001b[0m\u001b[0mis_connected\u001b[0m\u001b[1;33m(\u001b[0m\u001b[0mG1\u001b[0m\u001b[1;33m)\u001b[0m\u001b[1;33m:\u001b[0m\u001b[1;33m\u001b[0m\u001b[1;33m\u001b[0m\u001b[0m\n\u001b[0m\u001b[0;32m    336\u001b[0m                 \u001b[0mG1\u001b[0m\u001b[1;33m.\u001b[0m\u001b[0madd_edge\u001b[0m\u001b[1;33m(\u001b[0m\u001b[0msource\u001b[0m\u001b[1;33m,\u001b[0m\u001b[0mremove_neighbor\u001b[0m\u001b[1;33m)\u001b[0m\u001b[1;33m\u001b[0m\u001b[1;33m\u001b[0m\u001b[0m\n\u001b[0;32m    337\u001b[0m                 \u001b[1;31m#print(nx.is_connected(G1))\u001b[0m\u001b[1;33m\u001b[0m\u001b[1;33m\u001b[0m\u001b[1;33m\u001b[0m\u001b[0m\n",
      "\u001b[1;32m<decorator-gen-297>\u001b[0m in \u001b[0;36mis_connected\u001b[1;34m(G)\u001b[0m\n",
      "\u001b[1;32m~\\anaconda3\\lib\\site-packages\\networkx\\utils\\decorators.py\u001b[0m in \u001b[0;36m_not_implemented_for\u001b[1;34m(not_implement_for_func, *args, **kwargs)\u001b[0m\n\u001b[0;32m     76\u001b[0m             \u001b[1;32mraise\u001b[0m \u001b[0mnx\u001b[0m\u001b[1;33m.\u001b[0m\u001b[0mNetworkXNotImplemented\u001b[0m\u001b[1;33m(\u001b[0m\u001b[0mmsg\u001b[0m\u001b[1;33m)\u001b[0m\u001b[1;33m\u001b[0m\u001b[1;33m\u001b[0m\u001b[0m\n\u001b[0;32m     77\u001b[0m         \u001b[1;32melse\u001b[0m\u001b[1;33m:\u001b[0m\u001b[1;33m\u001b[0m\u001b[1;33m\u001b[0m\u001b[0m\n\u001b[1;32m---> 78\u001b[1;33m             \u001b[1;32mreturn\u001b[0m \u001b[0mnot_implement_for_func\u001b[0m\u001b[1;33m(\u001b[0m\u001b[1;33m*\u001b[0m\u001b[0margs\u001b[0m\u001b[1;33m,\u001b[0m \u001b[1;33m**\u001b[0m\u001b[0mkwargs\u001b[0m\u001b[1;33m)\u001b[0m\u001b[1;33m\u001b[0m\u001b[1;33m\u001b[0m\u001b[0m\n\u001b[0m\u001b[0;32m     79\u001b[0m \u001b[1;33m\u001b[0m\u001b[0m\n\u001b[0;32m     80\u001b[0m     \u001b[1;32mreturn\u001b[0m \u001b[0m_not_implemented_for\u001b[0m\u001b[1;33m\u001b[0m\u001b[1;33m\u001b[0m\u001b[0m\n",
      "\u001b[1;32m~\\anaconda3\\lib\\site-packages\\networkx\\algorithms\\components\\connected.py\u001b[0m in \u001b[0;36mis_connected\u001b[1;34m(G)\u001b[0m\n\u001b[0;32m    136\u001b[0m             \u001b[1;34m\"Connectivity is undefined \"\u001b[0m\u001b[1;33m,\u001b[0m \u001b[1;34m\"for the null graph.\"\u001b[0m\u001b[1;33m\u001b[0m\u001b[1;33m\u001b[0m\u001b[0m\n\u001b[0;32m    137\u001b[0m         )\n\u001b[1;32m--> 138\u001b[1;33m     \u001b[1;32mreturn\u001b[0m \u001b[0msum\u001b[0m\u001b[1;33m(\u001b[0m\u001b[1;36m1\u001b[0m \u001b[1;32mfor\u001b[0m \u001b[0mnode\u001b[0m \u001b[1;32min\u001b[0m \u001b[0m_plain_bfs\u001b[0m\u001b[1;33m(\u001b[0m\u001b[0mG\u001b[0m\u001b[1;33m,\u001b[0m \u001b[0marbitrary_element\u001b[0m\u001b[1;33m(\u001b[0m\u001b[0mG\u001b[0m\u001b[1;33m)\u001b[0m\u001b[1;33m)\u001b[0m\u001b[1;33m)\u001b[0m \u001b[1;33m==\u001b[0m \u001b[0mlen\u001b[0m\u001b[1;33m(\u001b[0m\u001b[0mG\u001b[0m\u001b[1;33m)\u001b[0m\u001b[1;33m\u001b[0m\u001b[1;33m\u001b[0m\u001b[0m\n\u001b[0m\u001b[0;32m    139\u001b[0m \u001b[1;33m\u001b[0m\u001b[0m\n\u001b[0;32m    140\u001b[0m \u001b[1;33m\u001b[0m\u001b[0m\n",
      "\u001b[1;32m~\\anaconda3\\lib\\site-packages\\networkx\\algorithms\\components\\connected.py\u001b[0m in \u001b[0;36m_plain_bfs\u001b[1;34m(G, source)\u001b[0m\n\u001b[0;32m    184\u001b[0m             \u001b[1;32mif\u001b[0m \u001b[0mv\u001b[0m \u001b[1;32mnot\u001b[0m \u001b[1;32min\u001b[0m \u001b[0mseen\u001b[0m\u001b[1;33m:\u001b[0m\u001b[1;33m\u001b[0m\u001b[1;33m\u001b[0m\u001b[0m\n\u001b[0;32m    185\u001b[0m                 \u001b[0mseen\u001b[0m\u001b[1;33m.\u001b[0m\u001b[0madd\u001b[0m\u001b[1;33m(\u001b[0m\u001b[0mv\u001b[0m\u001b[1;33m)\u001b[0m\u001b[1;33m\u001b[0m\u001b[1;33m\u001b[0m\u001b[0m\n\u001b[1;32m--> 186\u001b[1;33m                 \u001b[0mnextlevel\u001b[0m\u001b[1;33m.\u001b[0m\u001b[0mupdate\u001b[0m\u001b[1;33m(\u001b[0m\u001b[0mG_adj\u001b[0m\u001b[1;33m[\u001b[0m\u001b[0mv\u001b[0m\u001b[1;33m]\u001b[0m\u001b[1;33m)\u001b[0m\u001b[1;33m\u001b[0m\u001b[1;33m\u001b[0m\u001b[0m\n\u001b[0m\u001b[0;32m    187\u001b[0m     \u001b[1;32mreturn\u001b[0m \u001b[0mseen\u001b[0m\u001b[1;33m\u001b[0m\u001b[1;33m\u001b[0m\u001b[0m\n",
      "\u001b[1;31mKeyboardInterrupt\u001b[0m: "
     ]
    }
   ],
   "source": [
    "#paris\n",
    "G = networks_bus[1].copy()\n",
    "n = len(G.nodes())\n",
    "m = len(G.edges())\n",
    "par_result = 0\n",
    "c = 0\n",
    "niter = 0\n",
    "while c != sample:\n",
    "    niter = niter+1\n",
    "    random_graph = nx.gnm_random_graph(n,m)\n",
    "    if niter<niter_max:\n",
    "        if nx.is_connected(random_graph):\n",
    "            c=c+1\n",
    "            l = nx.average_shortest_path_length(random_graph)\n",
    "            par_result = par_result + l\n",
    "    else:\n",
    "        G1 = G.copy()\n",
    "        G1 = ut.single_link_rewiring(G1,1)\n",
    "        G1 = ut.single_link_rewiring(G1,1)\n",
    "        G1 = ut.single_link_rewiring(G1,1)\n",
    "        l = nx.average_shortest_path_length(G1)\n",
    "        par_result = par_result + l\n",
    "        c=c+1\n",
    "par_result = par_result/sample\n",
    "par_result"
   ]
  },
  {
   "cell_type": "code",
   "execution_count": null,
   "id": "12e7d30f",
   "metadata": {},
   "outputs": [],
   "source": [
    "#berlin\n",
    "G = networks_bus[2].copy()\n",
    "n = len(G.nodes())\n",
    "m = len(G.edges())\n",
    "ber_result = 0\n",
    "c = 0\n",
    "niter = 0\n",
    "while c != sample:\n",
    "    niter = niter+1\n",
    "    random_graph = nx.gnm_random_graph(n,m)\n",
    "    if niter<niter_max:\n",
    "        if nx.is_connected(random_graph):\n",
    "            c=c+1\n",
    "            l = nx.average_shortest_path_length(random_graph)\n",
    "            ber_result = ber_result + l\n",
    "    else:\n",
    "        G1 = G.copy()\n",
    "        G1 = ut.single_link_rewiring(G1,1)\n",
    "        G1 = ut.single_link_rewiring(G1,1)\n",
    "        G1 = ut.single_link_rewiring(G1,1)\n",
    "        l = nx.average_shortest_path_length(G1)\n",
    "        ber_result = ber_result + l\n",
    "        c=c+1\n",
    "ber_result = ber_result/sample\n",
    "ber_result"
   ]
  },
  {
   "cell_type": "code",
   "execution_count": null,
   "id": "6c16f197",
   "metadata": {},
   "outputs": [],
   "source": [
    "#sydney\n",
    "G = networks_bus[3].copy()\n",
    "n = len(G.nodes())\n",
    "m = len(G.edges())\n",
    "syd_result = 0\n",
    "c = 0\n",
    "niter = 0\n",
    "while c != sample:\n",
    "    niter = niter+1\n",
    "    random_graph = nx.gnm_random_graph(n,m)\n",
    "    if niter<niter_max:\n",
    "        if nx.is_connected(random_graph):\n",
    "            c=c+1\n",
    "            l = nx.average_shortest_path_length(random_graph)\n",
    "            syd_result = syd_result + l\n",
    "    else:\n",
    "        G1 = G.copy()\n",
    "        G1 = ut.single_link_rewiring(G1,1)\n",
    "        G1 = ut.single_link_rewiring(G1,1)\n",
    "        G1 = ut.single_link_rewiring(G1,1)\n",
    "        l = nx.average_shortest_path_length(G1)\n",
    "        syd_result = syd_result + l\n",
    "        c=c+1\n",
    "syd_result = syd_result/sample\n",
    "syd_result"
   ]
  },
  {
   "cell_type": "code",
   "execution_count": null,
   "id": "f5619c5a",
   "metadata": {},
   "outputs": [],
   "source": [
    "#detroit\n",
    "G = networks_bus[4].copy()\n",
    "n = len(G.nodes())\n",
    "m = len(G.edges())\n",
    "det_result = 0\n",
    "c = 0\n",
    "niter = 0\n",
    "while c != sample:\n",
    "    niter = niter+1\n",
    "    random_graph = nx.gnm_random_graph(n,m)\n",
    "    if niter<niter_max:\n",
    "        if nx.is_connected(random_graph):\n",
    "            c=c+1\n",
    "            l = nx.average_shortest_path_length(random_graph)\n",
    "            det_result = det_result + l\n",
    "    else:\n",
    "        G1 = G.copy()\n",
    "        G1 = ut.single_link_rewiring(G1,1)\n",
    "        G1 = ut.single_link_rewiring(G1,1)\n",
    "        G1 = ut.single_link_rewiring(G1,1)\n",
    "        l = nx.average_shortest_path_length(G1)\n",
    "        det_result = det_result + l\n",
    "        c=c+1\n",
    "det_result = det_result/sample\n",
    "det_result"
   ]
  },
  {
   "cell_type": "code",
   "execution_count": null,
   "id": "696a804a",
   "metadata": {},
   "outputs": [],
   "source": [
    "#beijin\n",
    "G = networks_bus[5].copy()\n",
    "n = len(G.nodes())\n",
    "m = len(G.edges())\n",
    "bej_result = 0\n",
    "c = 0\n",
    "niter = 0\n",
    "while c != sample:\n",
    "    niter = niter+1\n",
    "    random_graph = nx.gnm_random_graph(n,m)\n",
    "    if niter<niter_max:\n",
    "        if nx.is_connected(random_graph):\n",
    "            c=c+1\n",
    "            l = nx.average_shortest_path_length(random_graph)\n",
    "            bej_result = bej_result + l\n",
    "    else:\n",
    "        G1 = G.copy()\n",
    "        G1 = ut.single_link_rewiring(G1,1)\n",
    "        G1 = ut.single_link_rewiring(G1,1)\n",
    "        G1 = ut.single_link_rewiring(G1,1)\n",
    "        l = nx.average_shortest_path_length(G1)\n",
    "        bej_result = bej_result + l\n",
    "        c=c+1\n",
    "bej_result = bej_result/sample\n",
    "bej_result"
   ]
  },
  {
   "cell_type": "code",
   "execution_count": null,
   "id": "881043dd",
   "metadata": {},
   "outputs": [],
   "source": [
    "#london_m\n",
    "G = networks_bus_m[0].copy()\n",
    "n = len(G.nodes())\n",
    "m = len(G.edges())\n",
    "lon_result_m = 0\n",
    "c = 0\n",
    "niter = 0\n",
    "while c != sample:\n",
    "    niter = niter+1\n",
    "    random_graph = nx.gnm_random_graph(n,m)\n",
    "    if niter<niter_max:\n",
    "        if nx.is_connected(random_graph):\n",
    "            c=c+1\n",
    "            l = nx.average_shortest_path_length(random_graph)\n",
    "            lon_result_m = lon_result_m + l\n",
    "    else:\n",
    "        G1 = G.copy()\n",
    "        G1 = ut.single_link_rewiring(G1,1)\n",
    "        G1 = ut.single_link_rewiring(G1,1)\n",
    "        G1 = ut.single_link_rewiring(G1,1)\n",
    "        l = nx.average_shortest_path_length(G1)\n",
    "        lon_result_m = lon_result_m + l\n",
    "        c=c+1\n",
    "lon_result_m = lon_result_m/sample\n",
    "lon_result_m"
   ]
  },
  {
   "cell_type": "code",
   "execution_count": null,
   "id": "b12df009",
   "metadata": {},
   "outputs": [],
   "source": [
    "#paris_m\n",
    "G = networks_bus_m[1].copy()\n",
    "n = len(G.nodes())\n",
    "m = len(G.edges())\n",
    "par_result_m = 0\n",
    "c = 0\n",
    "niter = 0\n",
    "while c != sample:\n",
    "    niter = niter+1\n",
    "    random_graph = nx.gnm_random_graph(n,m)\n",
    "    if niter<niter_max:\n",
    "        if nx.is_connected(random_graph):\n",
    "            c=c+1\n",
    "            l = nx.average_shortest_path_length(random_graph)\n",
    "            par_result_m = par_result_m + l\n",
    "    else:\n",
    "        G1 = G.copy()\n",
    "        G1 = ut.single_link_rewiring(G1,1)\n",
    "        G1 = ut.single_link_rewiring(G1,1)\n",
    "        G1 = ut.single_link_rewiring(G1,1)\n",
    "        l = nx.average_shortest_path_length(G1)\n",
    "        par_result_m = par_result_m + l\n",
    "        c=c+1\n",
    "par_result_m = par_result_m/sample\n",
    "par_result_m"
   ]
  },
  {
   "cell_type": "code",
   "execution_count": null,
   "id": "fdd219e8",
   "metadata": {},
   "outputs": [],
   "source": [
    "#berlin_m\n",
    "G = networks_bus_m[2].copy()\n",
    "n = len(G.nodes())\n",
    "m = len(G.edges())\n",
    "ber_result_m = 0\n",
    "c = 0\n",
    "niter = 0\n",
    "while c != sample:\n",
    "    niter = niter+1\n",
    "    random_graph = nx.gnm_random_graph(n,m)\n",
    "    if niter<niter_max:\n",
    "        if nx.is_connected(random_graph):\n",
    "            c=c+1\n",
    "            l = nx.average_shortest_path_length(random_graph)\n",
    "            ber_result_m = ber_result_m + l\n",
    "    else:\n",
    "        G1 = G.copy()\n",
    "        G1 = ut.single_link_rewiring(G1,1)\n",
    "        G1 = ut.single_link_rewiring(G1,1)\n",
    "        G1 = ut.single_link_rewiring(G1,1)\n",
    "        l = nx.average_shortest_path_length(G1)\n",
    "        ber_result_m = ber_result_m + l\n",
    "        c=c+1\n",
    "ber_result_m = ber_result_m/sample\n",
    "ber_result_m"
   ]
  },
  {
   "cell_type": "code",
   "execution_count": null,
   "id": "8d3ff2ce",
   "metadata": {},
   "outputs": [],
   "source": [
    "#sydney_m\n",
    "G = networks_bus_m[3].copy()\n",
    "n = len(G.nodes())\n",
    "m = len(G.edges())\n",
    "syd_result_m = 0\n",
    "c = 0\n",
    "niter = 0\n",
    "while c != sample:\n",
    "    niter = niter+1\n",
    "    random_graph = nx.gnm_random_graph(n,m)\n",
    "    if niter<niter_max:\n",
    "        if nx.is_connected(random_graph):\n",
    "            c=c+1\n",
    "            l = nx.average_shortest_path_length(random_graph)\n",
    "            syd_result_m = syd_result_m + l\n",
    "    else:\n",
    "        G1 = G.copy()\n",
    "        G1 = ut.single_link_rewiring(G1,1)\n",
    "        G1 = ut.single_link_rewiring(G1,1)\n",
    "        G1 = ut.single_link_rewiring(G1,1)\n",
    "        l = nx.average_shortest_path_length(G1)\n",
    "        syd_result_m = syd_result_m + l\n",
    "        c=c+1\n",
    "syd_result_m = syd_result_m/sample\n",
    "syd_result_m"
   ]
  },
  {
   "cell_type": "code",
   "execution_count": null,
   "id": "ccd5a243",
   "metadata": {},
   "outputs": [],
   "source": [
    "#detroit_m\n",
    "G = networks_bus_m[4].copy()\n",
    "n = len(G.nodes())\n",
    "m = len(G.edges())\n",
    "det_result_m = 0\n",
    "c = 0\n",
    "niter = 0\n",
    "while c != sample:\n",
    "    niter = niter+1\n",
    "    random_graph = nx.gnm_random_graph(n,m)\n",
    "    if niter<niter_max:\n",
    "        if nx.is_connected(random_graph):\n",
    "            c=c+1\n",
    "            l = nx.average_shortest_path_length(random_graph)\n",
    "            det_result_m = det_result_m + l\n",
    "    else:\n",
    "        G1 = G.copy()\n",
    "        G1 = ut.single_link_rewiring(G1,1)\n",
    "        G1 = ut.single_link_rewiring(G1,1)\n",
    "        G1 = ut.single_link_rewiring(G1,1)\n",
    "        l = nx.average_shortest_path_length(G1)\n",
    "        det_result_m = det_result_m + l\n",
    "        c=c+1\n",
    "det_result_m = det_result_m/sample\n",
    "det_result_m"
   ]
  },
  {
   "cell_type": "code",
   "execution_count": null,
   "id": "94e2cdae",
   "metadata": {},
   "outputs": [],
   "source": [
    "#beijing_m\n",
    "G = networks_bus_m[5].copy()\n",
    "n = len(G.nodes())\n",
    "m = len(G.edges())\n",
    "bej_result_m = 0\n",
    "c = 0\n",
    "niter = 0\n",
    "while c != sample:\n",
    "    niter = niter+1\n",
    "    random_graph = nx.gnm_random_graph(n,m)\n",
    "    if niter<niter_max:\n",
    "        if nx.is_connected(random_graph):\n",
    "            c=c+1\n",
    "            l = nx.average_shortest_path_length(random_graph)\n",
    "            bej_result_m = bej_result_m + l\n",
    "    else:\n",
    "        G1 = G.copy()\n",
    "        G1 = ut.single_link_rewiring(G1,1)\n",
    "        G1 = ut.single_link_rewiring(G1,1)\n",
    "        G1 = ut.single_link_rewiring(G1,1)\n",
    "        l = nx.average_shortest_path_length(G1)\n",
    "        bej_result_m = bej_result_m + l\n",
    "        c=c+1\n",
    "bej_result_m = bej_result_m/sample\n",
    "bej_result_m"
   ]
  }
 ],
 "metadata": {
  "kernelspec": {
   "display_name": "Python 3",
   "language": "python",
   "name": "python3"
  },
  "language_info": {
   "codemirror_mode": {
    "name": "ipython",
    "version": 3
   },
   "file_extension": ".py",
   "mimetype": "text/x-python",
   "name": "python",
   "nbconvert_exporter": "python",
   "pygments_lexer": "ipython3",
   "version": "3.8.8"
  }
 },
 "nbformat": 4,
 "nbformat_minor": 5
}
