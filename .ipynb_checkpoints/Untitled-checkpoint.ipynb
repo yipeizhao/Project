{
 "cells": [
  {
   "cell_type": "code",
   "execution_count": 1,
   "id": "3273cd5a",
   "metadata": {},
   "outputs": [],
   "source": [
    "from rewiring import rewiring\n",
    "import matplotlib.pyplot as plt"
   ]
  },
  {
   "cell_type": "code",
   "execution_count": 2,
   "id": "eee3c7ac",
   "metadata": {},
   "outputs": [],
   "source": [
    "index = [\"dolphins\",\"pdzbase\",\"GBPT_train\",\n",
    "         \"hamsterster\",\"Roget\",\"flight\"]\n",
    "index_bus = [\"london\",\"paris\",\"berlin\",\"sydney\",\"detroit\",\"beijing\"]\n"
   ]
  },
  {
   "cell_type": "code",
   "execution_count": 3,
   "id": "74842ed4",
   "metadata": {},
   "outputs": [],
   "source": [
    "real_networks = [rewiring(item) for item in index]\n",
    "bus_networks = [rewiring(item,bus = True) for item in index_bus]"
   ]
  },
  {
   "cell_type": "code",
   "execution_count": 4,
   "id": "70603eba",
   "metadata": {},
   "outputs": [],
   "source": [
    "for niter in range(20):\n",
    "    for item in bus_networks:\n",
    "        item.experiment(\"S\",1)\n",
    "        item.write_result(\"S\")\n",
    "        item.experiment(\"P\",1)\n",
    "        item.write_result(\"P\")"
   ]
  },
  {
   "cell_type": "code",
   "execution_count": null,
   "id": "7e4240f2",
   "metadata": {},
   "outputs": [],
   "source": [
    "for niter in range(20):\n",
    "    for item in real_networks:\n",
    "        item.experiment(\"S\",1)\n",
    "        item.write_result(\"S\")\n",
    "        item.experiment(\"P\",1)\n",
    "        item.write_result(\"P\")"
   ]
  }
 ],
 "metadata": {
  "kernelspec": {
   "display_name": "Python 3",
   "language": "python",
   "name": "python3"
  },
  "language_info": {
   "codemirror_mode": {
    "name": "ipython",
    "version": 3
   },
   "file_extension": ".py",
   "mimetype": "text/x-python",
   "name": "python",
   "nbconvert_exporter": "python",
   "pygments_lexer": "ipython3",
   "version": "3.8.8"
  }
 },
 "nbformat": 4,
 "nbformat_minor": 5
}
