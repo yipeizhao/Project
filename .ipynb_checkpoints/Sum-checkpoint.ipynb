{
 "cells": [
  {
   "cell_type": "code",
   "execution_count": null,
   "id": "e7c22887",
   "metadata": {},
   "outputs": [],
   "source": [
    "import networkx as nx\n",
    "import Complexity as cx\n",
    "import matplotlib.pyplot as plt\n",
    "import utilities as ut\n",
    "import numpy as np\n",
    "import matplotlib as mpl\n",
    "from math import log"
   ]
  },
  {
   "cell_type": "code",
   "execution_count": null,
   "id": "3724a01f",
   "metadata": {},
   "outputs": [],
   "source": [
    "methods = [\"C1est\",\"C1espec\",\"C2espec\",\"OdC\",\"MAg\",\"Cr\",\"Ce\",\"MAri\"]"
   ]
  },
  {
   "cell_type": "code",
   "execution_count": null,
   "id": "5df7c6cf",
   "metadata": {},
   "outputs": [],
   "source": [
    "#Generates random graphs and data\n",
    "n=7\n",
    "graphs,df = ut.random_networks(n=n,use_all_m = True,sample_number = 50)"
   ]
  },
  {
   "cell_type": "code",
   "execution_count": null,
   "id": "e5fc8641",
   "metadata": {},
   "outputs": [],
   "source": [
    "#Find the complexities of the graphs\n",
    "results = []\n",
    "for item in methods:\n",
    "    method = getattr(cx,item)\n",
    "    temp_result = [method(g) for g in graphs]\n",
    "    results.append(temp_result)"
   ]
  },
  {
   "cell_type": "code",
   "execution_count": null,
   "id": "6b86467c",
   "metadata": {},
   "outputs": [],
   "source": [
    "n=7\n",
    "c=0\n",
    "fig,axes = plt.subplots(4,2,figsize = (10,16))\n",
    "xticks = np.linspace(n-1,n*(n-1)/2,5)\n",
    "xticks = [int(item) for item in xticks]\n",
    "for i in range(4):\n",
    "    for j in range(2):\n",
    "        axes[i][j].scatter(df[\"Number_of_edges\"],results[c],s=10,color = \"black\")\n",
    "        axes[i][j].set_yticks([0,0.5,1])\n",
    "        axes[i][j].set_xticks(xticks)\n",
    "        axes[i][j].set_xlabel(\"m\")\n",
    "        axes[i][j].set_ylabel(methods[c])\n",
    "        c+=1\n",
    "plt.suptitle(\"Complexity of graphs with 7 nodes\")\n",
    "plt.show()"
   ]
  },
  {
   "cell_type": "code",
   "execution_count": null,
   "id": "e64e89fc",
   "metadata": {},
   "outputs": [],
   "source": [
    "fig,axes = plt.subplots(1,3,figsize =(20,7))\n",
    "axes[0].scatter(results[1],results[3],s=15,c = df[\"Number_of_edges\"],cmap = \"binary\");axes[0].set_xlabel(\"C1espec\");axes[0].set_ylabel(\"OdC\");\n",
    "axes[1].scatter(results[1],results[7],s=15,c = df[\"Number_of_edges\"],cmap = \"binary\");axes[1].set_xlabel(\"C1espec\");axes[1].set_ylabel(\"MAri\");\n",
    "axes[2].scatter(results[3],results[7],s=15,c = df[\"Number_of_edges\"],cmap = \"binary\");axes[2].set_xlabel(\"OdC\");axes[2].set_ylabel(\"MAri\");\n",
    "for i in range(len(axes)):\n",
    "    axes[i].set_xticks([0,0.5,1])\n",
    "    axes[i].set_yticks([0,0.5,1])\n",
    "plt.suptitle(\"Complexity correlation\")\n",
    "fig, ax = plt.subplots(figsize=(6, 1))\n",
    "fig.subplots_adjust(bottom=0.5)\n",
    "\n",
    "cmap = mpl.cm.binary\n",
    "norm = mpl.colors.Normalize(vmin=(n-1), vmax=(n-1)*n/2)\n",
    "cb1 = mpl.colorbar.ColorbarBase(ax, cmap=cmap,\n",
    "                                norm=norm,\n",
    "                                orientation='horizontal')\n",
    "cb1.set_label('Number of edges')\n",
    "fig.show()"
   ]
  },
  {
   "cell_type": "code",
   "execution_count": null,
   "id": "371bedcc",
   "metadata": {},
   "outputs": [],
   "source": [
    "clusters = [nx.average_clustering(g) for g in graphs]\n",
    "distances = [nx.average_shortest_path_length(g) for g in graphs]\n",
    "Cr = [len(g.edges)/(n*(n-1/2)) for g in graphs]\n",
    "Lr = [log(n)/(2*len(g.edges)/n) for g in graphs]\n",
    "c_ratio = [item/item1 for item,item1 in zip(clusters,Cr)]\n",
    "l_ratio = [item/item1 for item,item1 in zip(distances,Lr)]\n",
    "plt.scatter(c_ratio,l_ratio, c = results[7],cmap = \"gray\")\n",
    "plt.colorbar()\n",
    "plt.title(\"Change of MAri with respect to small world parameter\")\n",
    "plt.xlabel(\"C/Cr\")\n",
    "plt.ylabel(\"L/Lr\")"
   ]
  },
  {
   "cell_type": "code",
   "execution_count": null,
   "id": "5533b004",
   "metadata": {},
   "outputs": [],
   "source": [
    "#Generates special random graphs\n",
    "n = 20\n",
    "randoms,random_df = ut.random_networks(n,False,500)\n",
    "BA_graphs = ut.BA_random_graphs(n=n,sample_number = 100)\n",
    "WS_graphs = ut.WS_random_graphs(n=n,sample_number = 100)\n",
    "NW_graphs = ut.NW_random_graphs(n=n,sample_number = 100)"
   ]
  },
  {
   "cell_type": "code",
   "execution_count": null,
   "id": "a894dd5c",
   "metadata": {},
   "outputs": [],
   "source": [
    "#Calculates the complexity of special random graphs\n",
    "rd_result = []\n",
    "for item in methods:\n",
    "    method = getattr(cx,item)\n",
    "    temp_result = [method(g) for g in randoms]\n",
    "    rd_result.append(temp_result)\n",
    "BA_result = []\n",
    "for item in methods:\n",
    "    method = getattr(cx,item)\n",
    "    temp_result = [method(g) for g in BA_graphs]\n",
    "    BA_result.append(temp_result)\n",
    "\n",
    "WS_result = []\n",
    "for item in methods:\n",
    "    method = getattr(cx,item)\n",
    "    temp_result = [method(g) for g in WS_graphs]\n",
    "    WS_result.append(temp_result)\n",
    "\n",
    "NW_result = []\n",
    "for item in methods:\n",
    "    method = getattr(cx,item)\n",
    "    temp_result = [method(g) for g in NW_graphs]\n",
    "    NW_result.append(temp_result)"
   ]
  },
  {
   "cell_type": "code",
   "execution_count": null,
   "id": "efa201c1",
   "metadata": {},
   "outputs": [],
   "source": [
    "# Calculates the complexities of special graphs\n",
    "n=20\n",
    "c=0\n",
    "fig,axes = plt.subplots(4,2,figsize = (10,16))\n",
    "xticks = np.linspace(n-1,n*(n-1)/2,5)\n",
    "xticks = [int(item) for item in xticks]\n",
    "for i in range(4):\n",
    "    for j in range(2):\n",
    "        axes[i][j].scatter([len(g.edges) for g in randoms],rd_result[c],s=15,color = \"black\",alpha = 0.7,label = \"G(n,m)\")\n",
    "        axes[i][j].scatter([len(g.edges) for g in BA_graphs],BA_result[c],s=15,color = \"green\",label = \"BA\")\n",
    "        axes[i][j].scatter([len(g.edges) for g in WS_graphs],WS_result[c],marker = \"x\",s=15,color = \"red\",label = \"WS\")\n",
    "        axes[i][j].scatter([len(g.edges) for g in NW_graphs],NW_result[c],marker = \"s\",s=15,color = \"blue\",label = \"NW\")\n",
    "        axes[i][j].set_yticks([0,0.5,1])\n",
    "        axes[i][j].set_ylabel(methods[c])\n",
    "        axes[i][j].set_xlabel(\"m\")\n",
    "        axes[i][j].set_xticks(xticks)\n",
    "        c+=1\n",
    "axes[0][0].legend()\n",
    "plt.legend()\n",
    "plt.suptitle(\"Special random graphs' complexities with n = 20\")\n",
    "plt.show()"
   ]
  },
  {
   "cell_type": "code",
   "execution_count": null,
   "id": "2d9bc125",
   "metadata": {},
   "outputs": [],
   "source": [
    "#Analyse Complement graphs complexity\n",
    "graphs,df = ut.random_networks(25,False,500)\n",
    "complement_graphs = [ut.complement_graph(g) for g in graphs]\n",
    "c = []\n",
    "g = []\n",
    "edges = []\n",
    "for i in range(len(complement_graphs)):\n",
    "    if complement_graphs[i] !=None:\n",
    "        c.append(complement_graphs[i])\n",
    "        g.append(graphs[i])\n",
    "        edges.append(df[\"Number_of_edges\"][i])"
   ]
  },
  {
   "cell_type": "code",
   "execution_count": null,
   "id": "c0e1113e",
   "metadata": {},
   "outputs": [],
   "source": [
    "results = [cx.MAri(item) for item in g]\n",
    "results_c = [cx.MAri(g) for g in c]\n",
    "plt.scatter(results,results_c,c = edges,cmap=\"gray\")\n",
    "plt.colorbar()\n",
    "plt.xlabel(\"MAri of original graph\")\n",
    "plt.ylabel(\"MAri of complement graph\")"
   ]
  },
  {
   "cell_type": "code",
   "execution_count": null,
   "id": "c9b0a97b",
   "metadata": {},
   "outputs": [],
   "source": [
    "from IPython import display\n",
    "display.Image(\"./figures/configuration_model.png\")"
   ]
  }
 ],
 "metadata": {
  "kernelspec": {
   "display_name": "Python 3",
   "language": "python",
   "name": "python3"
  },
  "language_info": {
   "codemirror_mode": {
    "name": "ipython",
    "version": 3
   },
   "file_extension": ".py",
   "mimetype": "text/x-python",
   "name": "python",
   "nbconvert_exporter": "python",
   "pygments_lexer": "ipython3",
   "version": "3.8.8"
  }
 },
 "nbformat": 4,
 "nbformat_minor": 5
}
