{
 "cells": [
  {
   "cell_type": "code",
   "execution_count": 1,
   "id": "1de51565",
   "metadata": {},
   "outputs": [],
   "source": [
    "import pandas as pd\n",
    "import networkx as nx\n",
    "import utilities as ut\n",
    "import Complexity as cx\n",
    "import matplotlib.pyplot as plt"
   ]
  },
  {
   "cell_type": "code",
   "execution_count": 2,
   "id": "6a6c17f0",
   "metadata": {},
   "outputs": [],
   "source": [
    "index = [\"dolphins\",\"pdzbase\",\"hamsterster\",\"Roget\",\"flight\",\"GBPT_train\"]\n",
    "index_bus = [\"london\",\"paris\",\"berlin\",\"sydney\",\"detroit\",\"beijing\"]\n",
    "load_path = [\"real_networks/processed/\"+item+\".csv\" for item in index]\n",
    "load_path_bus = [\"bus/processed/\"+item+\".csv\" for item in index_bus]\n",
    "load_path_bus_m = [\"bus/modified/m_\"+item+\".csv\" for item in index_bus]\n",
    "graphs = [ut.df_to_network(pd.read_csv(item)) for item in load_path]\n",
    "bus = [ut.df_to_network(pd.read_csv(item)) for item in load_path_bus]\n",
    "bus_m = [ut.df_to_network(pd.read_csv(item)) for item in load_path_bus_m]"
   ]
  },
  {
   "cell_type": "code",
   "execution_count": 3,
   "id": "b1aca4ce",
   "metadata": {},
   "outputs": [],
   "source": [
    "l = [nx.average_shortest_path_length(g) for g in graphs]       \n",
    "l_bus = [nx.average_shortest_path_length(g) for g in bus]\n",
    "l_bus_m = [nx.average_shortest_path_length(g) for g in bus_m]"
   ]
  },
  {
   "cell_type": "code",
   "execution_count": 4,
   "id": "76a14151",
   "metadata": {},
   "outputs": [
    {
     "name": "stdout",
     "output_type": "stream",
     "text": [
      "L - dolphins - 3.3569539925965097\n",
      "L - pdzbase - 5.326086956521739\n",
      "L - hamsterster - 3.216885407901945\n",
      "L - Roget - 4.075388889226598\n",
      "L - flight - 4.103241167898093\n",
      "L - GBPT_train - 10.38356882733828\n",
      "L - london - 32.338040452032565\n",
      "L - paris - 47.63116803725628\n",
      "L - berlin - 33.28420396981455\n",
      "L - sydney - 36.131348439544595\n",
      "L - detroit - 70.5125685001483\n",
      "L - beijing - 27.89102427046261\n",
      "L - m_london - 18.308409049942462\n",
      "L - m_paris - 15.385734266541235\n",
      "L - m_berlin - 18.35975819591666\n",
      "L - m_sydney - 17.66539095915279\n",
      "L - m_detroit - 6.341150697567162\n",
      "L - m_beijing - 14.863657915805842\n"
     ]
    }
   ],
   "source": [
    "for i in range(len(index)):\n",
    "    print(\"L - \"+index[i]+\" - \" + str(l[i]))\n",
    "for i in range(len(index_bus)):\n",
    "    print(\"L - \"+index_bus[i]+\" - \" + str(l_bus[i])) \n",
    "for i in range(len(index_bus)):\n",
    "    print(\"L - m_\"+index_bus[i]+\" - \" + str(l_bus_m[i]))"
   ]
  },
  {
   "cell_type": "code",
   "execution_count": 5,
   "id": "9a90cc60",
   "metadata": {},
   "outputs": [
    {
     "name": "stdout",
     "output_type": "stream",
     "text": [
      "Lr - dolphins - 3.3569539925965097\n",
      "Lr - pdzbase - 5.326086956521739\n",
      "Lr - hamsterster - 3.216885407901945\n",
      "Lr - Roget - 4.075388889226598\n",
      "Lr - flight - 4.103241167898093\n",
      "Lr - GBPT_train - 10.38356882733828\n",
      "Lr - dolphins - 32.338040452032565\n",
      "Lr - pdzbase - 47.63116803725628\n",
      "Lr - hamsterster - 33.28420396981455\n",
      "Lr - Roget - 36.131348439544595\n",
      "Lr - flight - 70.5125685001483\n",
      "Lr - GBPT_train - 27.89102427046261\n",
      "Lr - m_dolphins - 18.308409049942462\n",
      "Lr - m_pdzbase - 15.385734266541235\n",
      "Lr - m_hamsterster - 18.35975819591666\n",
      "Lr - m_Roget - 17.66539095915279\n",
      "Lr - m_flight - 6.341150697567162\n",
      "Lr - m_GBPT_train - 14.863657915805842\n"
     ]
    }
   ],
   "source": [
    "lr = [ut.lr(g) for g in graphs]\n",
    "for i in range(len(index)):\n",
    "    print(\"Lr - \"+index[i]+\" - \" + str(l[i]))         \n",
    "lr_bus = [ut.lr(g) for g in bus]\n",
    "for i in range(len(index_bus)):\n",
    "    print(\"Lr - \"+index[i]+\" - \" + str(l_bus[i]))  \n",
    "lr_bus_m = [ut.lr(g) for g in bus_m]\n",
    "for i in range(len(index_bus)):\n",
    "    print(\"Lr - m_\"+index[i]+\" - \" + str(l_bus_m[i]))"
   ]
  },
  {
   "cell_type": "code",
   "execution_count": 6,
   "id": "8c36be84",
   "metadata": {},
   "outputs": [],
   "source": [
    "result_g = [cx.MAri(g) for g in graphs]\n",
    "result_bus = [cx.MAri(g) for g in bus]\n",
    "result_bus_m = [cx.MAri(g) for g in bus_m]"
   ]
  },
  {
   "cell_type": "code",
   "execution_count": 77,
   "id": "92e0b8ce",
   "metadata": {},
   "outputs": [
    {
     "name": "stdout",
     "output_type": "stream",
     "text": [
      "4000\n",
      "4375\n",
      "3695\n",
      "3984\n"
     ]
    }
   ],
   "source": [
    "generated_graphs = [\n",
    "    nx.gnm_random_graph(875,4000),\n",
    "    nx.watts_strogatz_graph(875,10,0.05),\n",
    "    nx.newman_watts_strogatz_graph(875,9,0.05),\n",
    "    nx.barabasi_albert_graph(1000,4)\n",
    "]\n",
    "for item in generated_graphs:\n",
    "    print(len(item.edges))"
   ]
  },
  {
   "cell_type": "code",
   "execution_count": 78,
   "id": "4e619f55",
   "metadata": {},
   "outputs": [],
   "source": [
    "l_gg_ratio =[]\n",
    "for i in range(len(generated_graphs)):\n",
    "    l_gg_ratio.append(nx.average_shortest_path_length(generated_graphs[i])/ut.lr(generated_graphs[i]))\n",
    "gg_result = [cx.MAri(item) for item in generated_graphs]"
   ]
  },
  {
   "cell_type": "code",
   "execution_count": 79,
   "id": "55703428",
   "metadata": {},
   "outputs": [
    {
     "name": "stderr",
     "output_type": "stream",
     "text": [
      "The PostScript backend does not support transparency; partially transparent artists will be rendered opaque.\n",
      "The PostScript backend does not support transparency; partially transparent artists will be rendered opaque.\n"
     ]
    },
    {
     "data": {
      "image/png": "[encoded data removed]",
      "text/plain": [
       "<Figure size 1152x576 with 1 Axes>"
      ]
     },
     "metadata": {
      "needs_background": "light"
     },
     "output_type": "display_data"
    }
   ],
   "source": [
    "plt.figure(figsize=(16,8))\n",
    "l_ratio = [item0/item1 for item0,item1 in zip(l,lr)]\n",
    "l_ratio_bus = [item0/item1 for item0,item1 in zip(l_bus,lr_bus)]\n",
    "l_ratio_bus_m = [item0/item1 for item0,item1 in zip(l_bus_m,lr_bus_m)]\n",
    "plt.scatter(l_ratio,result_g,color = \"black\",s=50,label = \"Real networks\")\n",
    "plt.scatter(l_ratio_bus,result_bus,color = \"red\",s=50,marker = \"x\",label =\"Bus networks\")\n",
    "plt.scatter(l_ratio_bus_m,result_bus_m,color = \"blue\",marker = \"^\",s=50,label = \"Modified bus networks\")\n",
    "plt.scatter(l_gg_ratio,gg_result,color = \"green\",marker = \"s\",s=50,label = \"Generated graphs\")\n",
    "plt.legend(fontsize = 20)\n",
    "plt.xlabel(\"$L/L_r$\",fontsize = 20)\n",
    "plt.ylabel(\"$MAri$\",fontsize = 20)\n",
    "plt.yticks([0,0.25,0.5,0.75,1])\n",
    "\n",
    "\n",
    "for i in range(len(index)):\n",
    "    plt.annotate(str(i+1),(l_ratio[i],result_g[i]),fontsize= 15,color = \"grey\")\n",
    "for i in range(len(index)):\n",
    "    plt.annotate(str(i+7),(l_ratio_bus[i],result_bus[i]),fontsize= 15,color = \"grey\")\n",
    "for i in range(len(index)):\n",
    "    plt.annotate(str(i+13),(l_ratio_bus_m[i],result_bus_m[i]),fontsize= 15,color = \"grey\")\n",
    "for i in range(len(generated_graphs)):\n",
    "    plt.annotate(str(i+19),(l_gg_ratio[i],gg_result[i]),fontsize= 15,color = \"grey\")\n",
    "\n",
    "plt.annotate(3,(1,0.925),fontsize=15,color = \"grey\")\n",
    "plt.savefig(\"figures/real_networks.eps\",format = \"eps\")"
   ]
  }
 ],
 "metadata": {
  "kernelspec": {
   "display_name": "Python 3",
   "language": "python",
   "name": "python3"
  },
  "language_info": {
   "codemirror_mode": {
    "name": "ipython",
    "version": 3
   },
   "file_extension": ".py",
   "mimetype": "text/x-python",
   "name": "python",
   "nbconvert_exporter": "python",
   "pygments_lexer": "ipython3",
   "version": "3.8.8"
  }
 },
 "nbformat": 4,
 "nbformat_minor": 5
}
