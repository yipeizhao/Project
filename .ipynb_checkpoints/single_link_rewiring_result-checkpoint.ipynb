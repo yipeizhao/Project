{
 "cells": [
  {
   "cell_type": "code",
   "execution_count": 1,
   "id": "126e784c",
   "metadata": {},
   "outputs": [],
   "source": [
    "#Real network rewiring\n",
    "#(Single wire rewiring)"
   ]
  },
  {
   "cell_type": "code",
   "execution_count": 15,
   "id": "fc3a1837",
   "metadata": {},
   "outputs": [],
   "source": [
    "import pandas as pd\n",
    "import utilities as ut\n",
    "import Complexity as cx\n",
    "import numpy as np\n",
    "import matplotlib.pyplot as plt"
   ]
  },
  {
   "cell_type": "code",
   "execution_count": 6,
   "id": "07a5b17e",
   "metadata": {},
   "outputs": [],
   "source": [
    "#Load networks\n",
    "load_path = \"real_networks/processed/\"\n",
    "index = [\"dolphins\",\"pdzbase\",\"GBPT_train\",\n",
    "         \"hamsterster\",\"Roget\",\"flight\"]\n",
    "load_path_bus = \"real_networks/processed/modified_bus/m_\"\n",
    "index_bus = [\"london\",\"paris\",\"berlin\",\"sydney\",\"detroit\",\"beijing\"]\n",
    "dfs = [pd.read_csv(load_path+item+\".csv\") for item in index]\n",
    "dfs_bus = [pd.read_csv(load_path_bus+item+\".csv\") for item in index_bus]\n",
    "networks = [ut.df_to_network(item) for item in dfs]\n",
    "networks_bus = [ut.df_to_network(item) for item in dfs_bus]"
   ]
  },
  {
   "cell_type": "code",
   "execution_count": 32,
   "id": "32b364f8",
   "metadata": {},
   "outputs": [],
   "source": [
    "step_prob = 0.05\n",
    "prob_list = np.linspace(0,1,int(1/step_prob))\n",
    "sample = 10"
   ]
  },
  {
   "cell_type": "code",
   "execution_count": 42,
   "id": "bb45ea25",
   "metadata": {},
   "outputs": [],
   "source": [
    "#Dolphins:\n",
    "dol_result = [0]*len(prob_list)\n",
    "for iter_n in range(sample):\n",
    "    G1 = networks[0].copy()\n",
    "    for i in range(int(1/step_prob)):\n",
    "        G2 = G1.copy()\n",
    "        G1 = ut.single_link_rewiring(G2, step_prob)\n",
    "        dol_result[i] = dol_result[i] + cx.OdC(G1)\n",
    "dol_result = [item/sample for item in result]\n",
    "df = pd.DataFrame(data = {\"result\" : dol_result})\n",
    "df.to_csv(\"result/single_edge/\"+str(index[0])+\".csv\")"
   ]
  },
  {
   "cell_type": "code",
   "execution_count": 37,
   "id": "018a271e",
   "metadata": {},
   "outputs": [],
   "source": [
    "#pdzbase:\n",
    "pdz_result = [0]*len(prob_list)\n",
    "for iter_n in range(sample):\n",
    "    G1 = networks[1].copy()\n",
    "    for i in range(int(1/step_prob)):\n",
    "        G2 = G1.copy()\n",
    "        G1 = ut.single_link_rewiring(G2, step_prob)\n",
    "        pdz_result[i] = pdz_result[i] + cx.OdC(G1)\n",
    "pdz_result = [item/sample for item in result]\n",
    "df = pd.DataFrame(data = {\"result\" : pdz_result})\n",
    "df.to_csv(\"result/single_edge/\"+str(index[1])+\".csv\")"
   ]
  },
  {
   "cell_type": "code",
   "execution_count": 38,
   "id": "8adf665b",
   "metadata": {},
   "outputs": [],
   "source": [
    "#GBPT_train\n",
    "GBPT_result = [0]*len(prob_list)\n",
    "for iter_n in range(sample):\n",
    "    G1 = networks[2].copy()\n",
    "    for i in range(int(1/step_prob)):\n",
    "        G2 = G1.copy()\n",
    "        G1 = ut.single_link_rewiring(G2, step_prob)\n",
    "        result[i] = result[i] + cx.OdC(G1)\n",
    "GBPT_result = [item/sample for item in result]\n",
    "df = pd.DataFrame(data = {\"result\" : GBPT_result})\n",
    "df.to_csv(\"result/single_edge/\"+str(index[2])+\".csv\")"
   ]
  },
  {
   "cell_type": "code",
   "execution_count": 39,
   "id": "50204f53",
   "metadata": {},
   "outputs": [],
   "source": [
    "#hamsterster\n",
    "ham_result = [0]*len(prob_list)\n",
    "for iter_n in range(sample):\n",
    "    G1 = networks[3].copy()\n",
    "    for i in range(int(1/step_prob)):\n",
    "        G2 = G1.copy()\n",
    "        G1 = ut.single_link_rewiring(G2, step_prob)\n",
    "        ham_result[i] = ham_result[i] + cx.OdC(G1)\n",
    "ham_result = [item/sample for item in result]\n",
    "df = pd.DataFrame(data = {\"result\" : ham_result})\n",
    "df.to_csv(\"result/single_edge/\"+str(index[3])+\".csv\")"
   ]
  },
  {
   "cell_type": "code",
   "execution_count": 40,
   "id": "06139f54",
   "metadata": {},
   "outputs": [
    {
     "ename": "KeyboardInterrupt",
     "evalue": "",
     "output_type": "error",
     "traceback": [
      "\u001b[1;31m---------------------------------------------------------------------------\u001b[0m",
      "\u001b[1;31mKeyboardInterrupt\u001b[0m                         Traceback (most recent call last)",
      "\u001b[1;32m<ipython-input-40-e562d8358e7c>\u001b[0m in \u001b[0;36m<module>\u001b[1;34m\u001b[0m\n\u001b[0;32m      5\u001b[0m     \u001b[1;32mfor\u001b[0m \u001b[0mi\u001b[0m \u001b[1;32min\u001b[0m \u001b[0mrange\u001b[0m\u001b[1;33m(\u001b[0m\u001b[0mint\u001b[0m\u001b[1;33m(\u001b[0m\u001b[1;36m1\u001b[0m\u001b[1;33m/\u001b[0m\u001b[0mstep_prob\u001b[0m\u001b[1;33m)\u001b[0m\u001b[1;33m)\u001b[0m\u001b[1;33m:\u001b[0m\u001b[1;33m\u001b[0m\u001b[1;33m\u001b[0m\u001b[0m\n\u001b[0;32m      6\u001b[0m         \u001b[0mG2\u001b[0m \u001b[1;33m=\u001b[0m \u001b[0mG1\u001b[0m\u001b[1;33m.\u001b[0m\u001b[0mcopy\u001b[0m\u001b[1;33m(\u001b[0m\u001b[1;33m)\u001b[0m\u001b[1;33m\u001b[0m\u001b[1;33m\u001b[0m\u001b[0m\n\u001b[1;32m----> 7\u001b[1;33m         \u001b[0mG1\u001b[0m \u001b[1;33m=\u001b[0m \u001b[0mut\u001b[0m\u001b[1;33m.\u001b[0m\u001b[0msingle_link_rewiring\u001b[0m\u001b[1;33m(\u001b[0m\u001b[0mG2\u001b[0m\u001b[1;33m,\u001b[0m \u001b[0mstep_prob\u001b[0m\u001b[1;33m)\u001b[0m\u001b[1;33m\u001b[0m\u001b[1;33m\u001b[0m\u001b[0m\n\u001b[0m\u001b[0;32m      8\u001b[0m         \u001b[0mrog_result\u001b[0m\u001b[1;33m[\u001b[0m\u001b[0mi\u001b[0m\u001b[1;33m]\u001b[0m \u001b[1;33m=\u001b[0m \u001b[0mrog_result\u001b[0m\u001b[1;33m[\u001b[0m\u001b[0mi\u001b[0m\u001b[1;33m]\u001b[0m \u001b[1;33m+\u001b[0m \u001b[0mcx\u001b[0m\u001b[1;33m.\u001b[0m\u001b[0mOdC\u001b[0m\u001b[1;33m(\u001b[0m\u001b[0mG1\u001b[0m\u001b[1;33m)\u001b[0m\u001b[1;33m\u001b[0m\u001b[1;33m\u001b[0m\u001b[0m\n\u001b[0;32m      9\u001b[0m \u001b[0mrog_result\u001b[0m \u001b[1;33m=\u001b[0m \u001b[1;33m[\u001b[0m\u001b[0mitem\u001b[0m\u001b[1;33m/\u001b[0m\u001b[0msample\u001b[0m \u001b[1;32mfor\u001b[0m \u001b[0mitem\u001b[0m \u001b[1;32min\u001b[0m \u001b[0mresult\u001b[0m\u001b[1;33m]\u001b[0m\u001b[1;33m\u001b[0m\u001b[1;33m\u001b[0m\u001b[0m\n",
      "\u001b[1;32m~\\Documents\\GitHub\\Project\\utilities.py\u001b[0m in \u001b[0;36msingle_link_rewiring\u001b[1;34m(G, prob)\u001b[0m\n\u001b[0;32m    332\u001b[0m             \u001b[0mremove_neighbor\u001b[0m \u001b[1;33m=\u001b[0m \u001b[0mrandom\u001b[0m\u001b[1;33m.\u001b[0m\u001b[0mchoice\u001b[0m\u001b[1;33m(\u001b[0m\u001b[0mneighbors\u001b[0m\u001b[1;33m)\u001b[0m\u001b[1;33m\u001b[0m\u001b[1;33m\u001b[0m\u001b[0m\n\u001b[0;32m    333\u001b[0m             \u001b[0mG1\u001b[0m\u001b[1;33m.\u001b[0m\u001b[0mremove_edge\u001b[0m\u001b[1;33m(\u001b[0m\u001b[0msource\u001b[0m\u001b[1;33m,\u001b[0m\u001b[0mremove_neighbor\u001b[0m\u001b[1;33m)\u001b[0m\u001b[1;33m\u001b[0m\u001b[1;33m\u001b[0m\u001b[0m\n\u001b[1;32m--> 334\u001b[1;33m             \u001b[1;32mif\u001b[0m \u001b[1;32mnot\u001b[0m \u001b[0mnx\u001b[0m\u001b[1;33m.\u001b[0m\u001b[0mis_connected\u001b[0m\u001b[1;33m(\u001b[0m\u001b[0mG1\u001b[0m\u001b[1;33m)\u001b[0m\u001b[1;33m:\u001b[0m\u001b[1;33m\u001b[0m\u001b[1;33m\u001b[0m\u001b[0m\n\u001b[0m\u001b[0;32m    335\u001b[0m                 \u001b[0mG1\u001b[0m\u001b[1;33m.\u001b[0m\u001b[0madd_edge\u001b[0m\u001b[1;33m(\u001b[0m\u001b[0msource\u001b[0m\u001b[1;33m,\u001b[0m\u001b[0mremove_neighbor\u001b[0m\u001b[1;33m)\u001b[0m\u001b[1;33m\u001b[0m\u001b[1;33m\u001b[0m\u001b[0m\n\u001b[0;32m    336\u001b[0m                 \u001b[1;31m#print(nx.is_connected(G1))\u001b[0m\u001b[1;33m\u001b[0m\u001b[1;33m\u001b[0m\u001b[1;33m\u001b[0m\u001b[0m\n",
      "\u001b[1;32m<decorator-gen-297>\u001b[0m in \u001b[0;36mis_connected\u001b[1;34m(G)\u001b[0m\n",
      "\u001b[1;32m~\\anaconda3\\lib\\site-packages\\networkx\\utils\\decorators.py\u001b[0m in \u001b[0;36m_not_implemented_for\u001b[1;34m(not_implement_for_func, *args, **kwargs)\u001b[0m\n\u001b[0;32m     76\u001b[0m             \u001b[1;32mraise\u001b[0m \u001b[0mnx\u001b[0m\u001b[1;33m.\u001b[0m\u001b[0mNetworkXNotImplemented\u001b[0m\u001b[1;33m(\u001b[0m\u001b[0mmsg\u001b[0m\u001b[1;33m)\u001b[0m\u001b[1;33m\u001b[0m\u001b[1;33m\u001b[0m\u001b[0m\n\u001b[0;32m     77\u001b[0m         \u001b[1;32melse\u001b[0m\u001b[1;33m:\u001b[0m\u001b[1;33m\u001b[0m\u001b[1;33m\u001b[0m\u001b[0m\n\u001b[1;32m---> 78\u001b[1;33m             \u001b[1;32mreturn\u001b[0m \u001b[0mnot_implement_for_func\u001b[0m\u001b[1;33m(\u001b[0m\u001b[1;33m*\u001b[0m\u001b[0margs\u001b[0m\u001b[1;33m,\u001b[0m \u001b[1;33m**\u001b[0m\u001b[0mkwargs\u001b[0m\u001b[1;33m)\u001b[0m\u001b[1;33m\u001b[0m\u001b[1;33m\u001b[0m\u001b[0m\n\u001b[0m\u001b[0;32m     79\u001b[0m \u001b[1;33m\u001b[0m\u001b[0m\n\u001b[0;32m     80\u001b[0m     \u001b[1;32mreturn\u001b[0m \u001b[0m_not_implemented_for\u001b[0m\u001b[1;33m\u001b[0m\u001b[1;33m\u001b[0m\u001b[0m\n",
      "\u001b[1;32m~\\anaconda3\\lib\\site-packages\\networkx\\algorithms\\components\\connected.py\u001b[0m in \u001b[0;36mis_connected\u001b[1;34m(G)\u001b[0m\n\u001b[0;32m    136\u001b[0m             \u001b[1;34m\"Connectivity is undefined \"\u001b[0m\u001b[1;33m,\u001b[0m \u001b[1;34m\"for the null graph.\"\u001b[0m\u001b[1;33m\u001b[0m\u001b[1;33m\u001b[0m\u001b[0m\n\u001b[0;32m    137\u001b[0m         )\n\u001b[1;32m--> 138\u001b[1;33m     \u001b[1;32mreturn\u001b[0m \u001b[0msum\u001b[0m\u001b[1;33m(\u001b[0m\u001b[1;36m1\u001b[0m \u001b[1;32mfor\u001b[0m \u001b[0mnode\u001b[0m \u001b[1;32min\u001b[0m \u001b[0m_plain_bfs\u001b[0m\u001b[1;33m(\u001b[0m\u001b[0mG\u001b[0m\u001b[1;33m,\u001b[0m \u001b[0marbitrary_element\u001b[0m\u001b[1;33m(\u001b[0m\u001b[0mG\u001b[0m\u001b[1;33m)\u001b[0m\u001b[1;33m)\u001b[0m\u001b[1;33m)\u001b[0m \u001b[1;33m==\u001b[0m \u001b[0mlen\u001b[0m\u001b[1;33m(\u001b[0m\u001b[0mG\u001b[0m\u001b[1;33m)\u001b[0m\u001b[1;33m\u001b[0m\u001b[1;33m\u001b[0m\u001b[0m\n\u001b[0m\u001b[0;32m    139\u001b[0m \u001b[1;33m\u001b[0m\u001b[0m\n\u001b[0;32m    140\u001b[0m \u001b[1;33m\u001b[0m\u001b[0m\n",
      "\u001b[1;32m~\\anaconda3\\lib\\site-packages\\networkx\\algorithms\\components\\connected.py\u001b[0m in \u001b[0;36m_plain_bfs\u001b[1;34m(G, source)\u001b[0m\n\u001b[0;32m    184\u001b[0m             \u001b[1;32mif\u001b[0m \u001b[0mv\u001b[0m \u001b[1;32mnot\u001b[0m \u001b[1;32min\u001b[0m \u001b[0mseen\u001b[0m\u001b[1;33m:\u001b[0m\u001b[1;33m\u001b[0m\u001b[1;33m\u001b[0m\u001b[0m\n\u001b[0;32m    185\u001b[0m                 \u001b[0mseen\u001b[0m\u001b[1;33m.\u001b[0m\u001b[0madd\u001b[0m\u001b[1;33m(\u001b[0m\u001b[0mv\u001b[0m\u001b[1;33m)\u001b[0m\u001b[1;33m\u001b[0m\u001b[1;33m\u001b[0m\u001b[0m\n\u001b[1;32m--> 186\u001b[1;33m                 \u001b[0mnextlevel\u001b[0m\u001b[1;33m.\u001b[0m\u001b[0mupdate\u001b[0m\u001b[1;33m(\u001b[0m\u001b[0mG_adj\u001b[0m\u001b[1;33m[\u001b[0m\u001b[0mv\u001b[0m\u001b[1;33m]\u001b[0m\u001b[1;33m)\u001b[0m\u001b[1;33m\u001b[0m\u001b[1;33m\u001b[0m\u001b[0m\n\u001b[0m\u001b[0;32m    187\u001b[0m     \u001b[1;32mreturn\u001b[0m \u001b[0mseen\u001b[0m\u001b[1;33m\u001b[0m\u001b[1;33m\u001b[0m\u001b[0m\n",
      "\u001b[1;31mKeyboardInterrupt\u001b[0m: "
     ]
    }
   ],
   "source": [
    "#Roget\n",
    "rog_result = [0]*len(prob_list)\n",
    "for iter_n in range(sample):\n",
    "    G1 = networks[4].copy()\n",
    "    for i in range(int(1/step_prob)):\n",
    "        G2 = G1.copy()\n",
    "        G1 = ut.single_link_rewiring(G2, step_prob)\n",
    "        rog_result[i] = rog_result[i] + cx.OdC(G1)\n",
    "rog_result = [item/sample for item in result]\n",
    "df = pd.DataFrame(data = {\"result\" : rog_result})\n",
    "df.to_csv(\"result/single_edge/\"+str(index[4])+\".csv\")"
   ]
  },
  {
   "cell_type": "code",
   "execution_count": null,
   "id": "77dfa5e1",
   "metadata": {},
   "outputs": [],
   "source": [
    "#Flight\n",
    "fli_result = [0]*len(prob_list)\n",
    "for iter_n in range(sample):\n",
    "    G1 = networks[5].copy()\n",
    "    for i in range(int(1/step_prob)):\n",
    "        G2 = G1.copy()\n",
    "        G1 = ut.single_link_rewiring(G2, step_prob)\n",
    "        fli_result[i] = fli_result[i] + cx.OdC(G1)\n",
    "fli_result = [item/sample for item in result]\n",
    "df = pd.DataFrame(data = {\"result\" :fli_result})\n",
    "df.to_csv(\"result/single_edge/\"+str(index[5])+\".csv\")"
   ]
  },
  {
   "cell_type": "code",
   "execution_count": null,
   "id": "c37b6e99",
   "metadata": {},
   "outputs": [],
   "source": [
    "#london\n",
    "lon_result = [0]*len(prob_list)\n",
    "for iter_n in range(sample):\n",
    "    G1 = networks_bus[0].copy()\n",
    "    for i in range(int(1/step_prob)):\n",
    "        G2 = G1.copy()\n",
    "        G1 = ut.single_link_rewiring(G2, step_prob)\n",
    "        lon_result[i] = lon_result[i] + cx.OdC(G1)\n",
    "lon_result = [item/sample for item in result]\n",
    "df = pd.DataFrame(data = {\"result\" : lon_result})\n",
    "df.to_csv(\"result/single_edge/\"+str(index_bus[0])+\".csv\")"
   ]
  },
  {
   "cell_type": "code",
   "execution_count": null,
   "id": "2c66911c",
   "metadata": {},
   "outputs": [],
   "source": [
    "#paris\n",
    "par_result = [0]*len(prob_list)\n",
    "for iter_n in range(sample):\n",
    "    G1 = networks_bus[1].copy()\n",
    "    for i in range(int(1/step_prob)):\n",
    "        G2 = G1.copy()\n",
    "        G1 = ut.single_link_rewiring(G2, step_prob)\n",
    "        par_result[i] = par_result[i] + cx.OdC(G1)\n",
    "par_result = [item/sample for item in result]\n",
    "df = pd.DataFrame(data = {\"result\" : par_result})\n",
    "df.to_csv(\"result/single_edge/\"+str(index_bus[1])+\".csv\")"
   ]
  },
  {
   "cell_type": "code",
   "execution_count": null,
   "id": "824f7005",
   "metadata": {},
   "outputs": [],
   "source": [
    "#berlin\n",
    "ber_result = [0]*len(prob_list)\n",
    "for iter_n in range(sample):\n",
    "    G1 = networks_bus[2].copy()\n",
    "    for i in range(int(1/step_prob)):\n",
    "        G2 = G1.copy()\n",
    "        G1 = ut.single_link_rewiring(G2, step_prob)\n",
    "        ber_result[i] = ber_result[i] + cx.OdC(G1)\n",
    "ber_result = [item/sample for item in result]\n",
    "df = pd.DataFrame(data = {\"result\" : ber_result})\n",
    "df.to_csv(\"result/single_edge/\"+str(index_bus[2])+\".csv\")"
   ]
  },
  {
   "cell_type": "code",
   "execution_count": null,
   "id": "0d330dda",
   "metadata": {},
   "outputs": [],
   "source": [
    "#sydney\n",
    "syd_result = [0]*len(prob_list)\n",
    "for iter_n in range(sample):\n",
    "    G1 = networks_bus[3].copy()\n",
    "    for i in range(int(1/step_prob)):\n",
    "        G2 = G1.copy()\n",
    "        G1 = ut.single_link_rewiring(G2, step_prob)\n",
    "        syd_result[i] = syd_result[i] + cx.OdC(G1)\n",
    "syd_result = [item/sample for item in result]\n",
    "df = pd.DataFrame(data = {\"result\" : syd_result})\n",
    "df.to_csv(\"result/single_edge/\"+str(index_bus[3])+\".csv\")"
   ]
  },
  {
   "cell_type": "code",
   "execution_count": null,
   "id": "e243d31e",
   "metadata": {},
   "outputs": [],
   "source": [
    "#Detroit\n",
    "det_result = [0]*len(prob_list)\n",
    "for iter_n in range(sample):\n",
    "    G1 = networks_bus[4].copy()\n",
    "    for i in range(int(1/step_prob)):\n",
    "        G2 = G1.copy()\n",
    "        G1 = ut.single_link_rewiring(G2, step_prob)\n",
    "        det_result[i] = det_result[i] + cx.OdC(G1)\n",
    "det_result = [item/sample for item in result]\n",
    "df = pd.DataFrame(data = {\"result\" : det_result})\n",
    "df.to_csv(\"result/single_edge/\"+str(index_bus[4])+\".csv\")"
   ]
  },
  {
   "cell_type": "code",
   "execution_count": null,
   "id": "c8713366",
   "metadata": {},
   "outputs": [],
   "source": [
    "#Beijing\n",
    "bej_result = [0]*len(prob_list)\n",
    "for iter_n in range(sample):\n",
    "    G1 = networks_bus[5].copy()\n",
    "    for i in range(int(1/step_prob)):\n",
    "        G2 = G1.copy()\n",
    "        G1 = ut.single_link_rewiring(G2, step_prob)\n",
    "        bej_result[i] = bej_result[i] + cx.OdC(G1)\n",
    "bej_result = [item/sample for item in result]\n",
    "df = pd.DataFrame(data = {\"result\" : bei_result})\n",
    "df.to_csv(\"result/single_edge/\"+str(index_bus[5])+\".csv\")"
   ]
  }
 ],
 "metadata": {
  "kernelspec": {
   "display_name": "Python 3",
   "language": "python",
   "name": "python3"
  },
  "language_info": {
   "codemirror_mode": {
    "name": "ipython",
    "version": 3
   },
   "file_extension": ".py",
   "mimetype": "text/x-python",
   "name": "python",
   "nbconvert_exporter": "python",
   "pygments_lexer": "ipython3",
   "version": "3.8.8"
  }
 },
 "nbformat": 4,
 "nbformat_minor": 5
}
