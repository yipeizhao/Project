{
 "cells": [
  {
   "cell_type": "code",
   "execution_count": 1,
   "id": "3273cd5a",
   "metadata": {},
   "outputs": [],
   "source": [
    "from rewiring import rewiring\n",
    "import matplotlib.pyplot as plt"
   ]
  },
  {
   "cell_type": "code",
   "execution_count": 2,
   "id": "eee3c7ac",
   "metadata": {},
   "outputs": [],
   "source": [
    "index = [\"dolphins\",\"pdzbase\",\"GBPT_train\",\n",
    "         \"hamsterster\",\"Roget\",\"flight\"]\n",
    "index_bus = [\"london\",\"paris\",\"berlin\",\"sydney\",\"detroit\",\"beijing\"]"
   ]
  },
  {
   "cell_type": "code",
   "execution_count": 3,
   "id": "74842ed4",
   "metadata": {},
   "outputs": [],
   "source": [
    "real_networks = [rewiring(item) for item in index]\n",
    "bus_networks = [rewiring(item,bus = True) for item in index_bus]"
   ]
  },
  {
   "cell_type": "code",
   "execution_count": 4,
   "id": "6cc43a32",
   "metadata": {},
   "outputs": [],
   "source": [
    "for item in real_networks:\n",
    "    item.experiment(\"P\",10)\n",
    "    item.write_result(\"P\")\n",
    "    item.experiment(\"S\",10)\n",
    "    item.write_result(\"S\")"
   ]
  },
  {
   "cell_type": "code",
   "execution_count": 5,
   "id": "82d97fdb",
   "metadata": {},
   "outputs": [],
   "source": [
    "for item in bus_networks:\n",
    "    item.experiment(\"P\",10)\n",
    "    item.write_result(\"P\")\n",
    "    item.experiment(\"S\",10)\n",
    "    item.write_result(\"S\")"
   ]
  }
 ],
 "metadata": {
  "kernelspec": {
   "display_name": "Python 3",
   "language": "python",
   "name": "python3"
  },
  "language_info": {
   "codemirror_mode": {
    "name": "ipython",
    "version": 3
   },
   "file_extension": ".py",
   "mimetype": "text/x-python",
   "name": "python",
   "nbconvert_exporter": "python",
   "pygments_lexer": "ipython3",
   "version": "3.8.8"
  }
 },
 "nbformat": 4,
 "nbformat_minor": 5
}
