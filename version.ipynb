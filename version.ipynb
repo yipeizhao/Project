{
 "cells": [
  {
   "cell_type": "code",
   "execution_count": 1,
   "metadata": {},
   "outputs": [],
   "source": [
    "import networkx as nx\n",
    "import matplotlib as plt\n",
    "import numpy as np\n",
    "import pandas as pd\n",
    "import scipy"
   ]
  },
  {
   "cell_type": "code",
   "execution_count": 2,
   "metadata": {},
   "outputs": [
    {
     "name": "stdout",
     "output_type": "stream",
     "text": [
      "NetworkX2.6.3\n"
     ]
    }
   ],
   "source": [
    "print(\"NetworkX:\"+nx.__version__)\n",
    "print(\"Matplotlib:\"+nx.__version__)\n",
    "print(\"NetworkX:\"+nx.__version__)\n",
    "print(\"NetworkX:\"+nx.__version__)\n",
    "print(\"NetworkX:\"+nx.__version__)\n"
   ]
  }
 ],
 "metadata": {
  "interpreter": {
   "hash": "23d0db9fee8be45afa31ee668d1c909f72b0adf4b028e72c46f8737810a73089"
  },
  "kernelspec": {
   "display_name": "Python 3.8.8 64-bit ('env': venv)",
   "name": "python3"
  },
  "language_info": {
   "codemirror_mode": {
    "name": "ipython",
    "version": 3
   },
   "file_extension": ".py",
   "mimetype": "text/x-python",
   "name": "python",
   "nbconvert_exporter": "python",
   "pygments_lexer": "ipython3",
   "version": "3.8.8"
  },
  "orig_nbformat": 4
 },
 "nbformat": 4,
 "nbformat_minor": 2
}
