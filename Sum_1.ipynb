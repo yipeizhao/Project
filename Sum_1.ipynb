{
 "cells": [
  {
   "cell_type": "code",
   "execution_count": 1,
   "id": "1de51565",
   "metadata": {},
   "outputs": [],
   "source": [
    "import pandas as pd\n",
    "import networkx as nx\n",
    "import utilities as ut\n",
    "import Complexity as cx\n",
    "import matplotlib.pyplot as plt"
   ]
  },
  {
   "cell_type": "code",
   "execution_count": 2,
   "id": "6a6c17f0",
   "metadata": {},
   "outputs": [],
   "source": [
    "index = [\"dolphins\",\"pdzbase\",\"hamsterster\",\"Roget\",\"flight\",\"GBPT_train\"]\n",
    "index_bus = [\"london\",\"paris\",\"berlin\",\"sydney\",\"detroit\",\"beijing\"]\n",
    "load_path = [\"real_networks/processed/\"+item+\".csv\" for item in index]\n",
    "load_path_bus = [\"bus/processed/\"+item+\".csv\" for item in index_bus]\n",
    "load_path_bus_m = [\"bus/modified/m_\"+item+\".csv\" for item in index_bus]\n",
    "graphs = [ut.df_to_network(pd.read_csv(item)) for item in load_path]\n",
    "bus = [ut.df_to_network(pd.read_csv(item)) for item in load_path_bus]\n",
    "bus_m = [ut.df_to_network(pd.read_csv(item)) for item in load_path_bus_m]"
   ]
  },
  {
   "cell_type": "code",
   "execution_count": 3,
   "id": "3d730c77",
   "metadata": {},
   "outputs": [
    {
     "name": "stdout",
     "output_type": "stream",
     "text": [
      "dolphins n-62 m-159\n",
      "pdzbase n-161 m-209\n",
      "hamsterster n-874 m-4003\n",
      "Roget n-994 m-3640\n",
      "flight n-3397 m-19230\n",
      "GBPT_train n-2490 m-4377\n",
      "london n-8653 m-12285\n",
      "paris n-10644 m-12309\n",
      "berlin n-4316 m-5869\n",
      "sydney n-22659 m-26720\n",
      "detroit n-5683 m-5946\n",
      "beijing n-9249 m-14058\n",
      "m_london n-3417 m-6018\n",
      "m_paris n-2762 m-4301\n",
      "m_berlin n-1662 m-2941\n",
      "m_sydney n-4834 m-8358\n",
      "m_detroit n-295 m-483\n",
      "m_beijing n-4072 m-8325\n"
     ]
    }
   ],
   "source": [
    "for i in range (len(graphs)):\n",
    "    print(index[i]+\" n-\"+str(len(graphs[i].nodes))+\" m-\"+str(len(graphs[i].edges)))\n",
    "for i in range (len(bus)):\n",
    "    print(index_bus[i]+\" n-\"+str(len(bus[i].nodes))+\" m-\"+str(len(bus[i].edges)))\n",
    "for i in range (len(bus_m)):\n",
    "    print(\"m_\"+index_bus[i]+\" n-\"+str(len(bus_m[i].nodes))+\" m-\"+str(len(bus_m[i].edges)))\n"
   ]
  },
  {
   "cell_type": "code",
   "execution_count": 4,
   "id": "b1aca4ce",
   "metadata": {},
   "outputs": [],
   "source": [
    "l = [nx.average_shortest_path_length(g) for g in graphs]       \n",
    "l_bus = [nx.average_shortest_path_length(g) for g in bus]\n",
    "l_bus_m = [nx.average_shortest_path_length(g) for g in bus_m]"
   ]
  },
  {
   "cell_type": "code",
   "execution_count": 5,
   "id": "76a14151",
   "metadata": {},
   "outputs": [
    {
     "name": "stdout",
     "output_type": "stream",
     "text": [
      "L - dolphins - 3.3569539925965097\n",
      "L - pdzbase - 5.326086956521739\n",
      "L - hamsterster - 3.216885407901945\n",
      "L - Roget - 4.075388889226598\n",
      "L - flight - 4.103241167898093\n",
      "L - GBPT_train - 10.38356882733828\n",
      "L - london - 32.338040452032565\n",
      "L - paris - 47.63116803725628\n",
      "L - berlin - 33.28420396981455\n",
      "L - sydney - 36.131348439544595\n",
      "L - detroit - 70.5125685001483\n",
      "L - beijing - 27.89102427046261\n",
      "L - m_london - 18.308409049942462\n",
      "L - m_paris - 15.385734266541235\n",
      "L - m_berlin - 18.35975819591666\n",
      "L - m_sydney - 17.66539095915279\n",
      "L - m_detroit - 6.341150697567162\n",
      "L - m_beijing - 14.863657915805842\n"
     ]
    }
   ],
   "source": [
    "for i in range(len(index)):\n",
    "    print(\"L - \"+index[i]+\" - \" + str(l[i]))\n",
    "for i in range(len(index_bus)):\n",
    "    print(\"L - \"+index_bus[i]+\" - \" + str(l_bus[i])) \n",
    "for i in range(len(index_bus)):\n",
    "    print(\"L - m_\"+index_bus[i]+\" - \" + str(l_bus_m[i]))"
   ]
  },
  {
   "cell_type": "code",
   "execution_count": 6,
   "id": "9a90cc60",
   "metadata": {},
   "outputs": [
    {
     "name": "stdout",
     "output_type": "stream",
     "text": [
      "Lr - dolphins - 2.5243693660060864\n",
      "Lr - pdzbase - 5.325989417275101\n",
      "Lr - hamsterster - 3.0580088702689494\n",
      "Lr - Roget - 3.4662084221596823\n",
      "Lr - flight - 3.350459754148931\n",
      "Lr - GBPT_train - 6.22006335643191\n",
      "Lr - london - 8.686744647758294\n",
      "Lr - paris - 11.05898139082862\n",
      "Lr - berlin - 8.365881351589394\n",
      "Lr - sydney - 11.6879770288119\n",
      "Lr - detroit - 11.708275908499148\n",
      "Lr - beijing - 8.213778329061089\n",
      "Lr - m_london - 6.461968895054475\n",
      "Lr - m_paris - 6.974853500128093\n",
      "Lr - m_berlin - 5.867491747415968\n",
      "Lr - m_sydney - 6.837659254067346\n",
      "Lr - m_detroit - 4.794326923946185\n",
      "Lr - m_beijing - 5.902173955258321\n"
     ]
    }
   ],
   "source": [
    "lr = [ut.lr(g) for g in graphs]\n",
    "for i in range(len(index)):\n",
    "    print(\"Lr - \"+index[i]+\" - \" + str(lr[i]))         \n",
    "lr_bus = [ut.lr(g) for g in bus]\n",
    "for i in range(len(index_bus)):\n",
    "    print(\"Lr - \"+index_bus[i]+\" - \" + str(lr_bus[i]))  \n",
    "lr_bus_m = [ut.lr(g) for g in bus_m]\n",
    "for i in range(len(index_bus)):\n",
    "    print(\"Lr - m_\"+index_bus[i]+\" - \" + str(lr_bus_m[i]))"
   ]
  },
  {
   "cell_type": "code",
   "execution_count": 7,
   "id": "8c36be84",
   "metadata": {},
   "outputs": [
    {
     "name": "stdout",
     "output_type": "stream",
     "text": [
      "dolphins - 0.9990702939318609\n",
      "pdzbase - 0.8235995683107303\n",
      "hamsterster - 0.9628113072924117\n",
      "Roget - 0.9604644853724599\n",
      "flight - 0.9480688635901238\n",
      "GBPT_train - 0.663553924138009\n",
      "london - 0.37956645527580263\n",
      "paris - 0.17270004100057404\n",
      "berlin - 0.35804967725832104\n",
      "sydney - 0.1732858714989626\n",
      "detroit - 0.061528612501822774\n",
      "beijing - 0.4408046883215788\n",
      "m_london - 0.5525561276905215\n",
      "m_paris - 0.4683051675335257\n",
      "m_berlin - 0.5859143267913947\n",
      "m_sydney - 0.4895443380613669\n",
      "m_detroit - 0.6431672976760101\n",
      "m_beijing - 0.6400886726532351\n"
     ]
    }
   ],
   "source": [
    "result_g = [cx.MAri(g) for g in graphs]\n",
    "result_bus = [cx.MAri(g) for g in bus]\n",
    "result_bus_m = [cx.MAri(g) for g in bus_m]\n",
    "for i in range(len(result_g)):\n",
    "    print(index[i] + \" - \"+str(result_g[i]))\n",
    "for i in range(len(result_g)):\n",
    "    print(index_bus[i] + \" - \"+str(result_bus[i]))\n",
    "for i in range(len(result_g)):\n",
    "    print(\"m_\"+index_bus[i] + \" - \"+str(result_bus_m[i]))\n"
   ]
  },
  {
   "cell_type": "code",
   "execution_count": 8,
   "id": "4e8a1f2f",
   "metadata": {},
   "outputs": [
    {
     "name": "stdout",
     "output_type": "stream",
     "text": [
      "G(n,m) network: n =875\n",
      "m=4000\n",
      "L=3.304013076168683\n",
      "L_r=3.06114177057799\n",
      "MAri=0.9708918673624577\n",
      "OdC=0.3336915576562711\n",
      "\n",
      "WS network: n =875\n",
      "m=4375\n",
      "L=5.000428898332789\n",
      "L_r=2.9420080530223127\n",
      "MAri=0.9740472509809228\n",
      "OdC=0.1268554120663706\n",
      "\n",
      "NW network: n =875\n",
      "m=4587\n",
      "L=5.075229813664596\n",
      "L_r=2.8827652586802746\n",
      "MAri=0.9797870625077363\n",
      "OdC=0.08583585673121763\n",
      "\n",
      "BA network: n =875\n",
      "m=4350\n",
      "L=2.9223484798953905\n",
      "L_r=2.949348392492184\n",
      "MAri=0.9997011650603344\n",
      "OdC=0.3578864977477902\n",
      "\n"
     ]
    }
   ],
   "source": [
    "generated_graphs = [\n",
    "    nx.gnm_random_graph(875,4000),\n",
    "    nx.watts_strogatz_graph(875,10,0.05),\n",
    "    nx.newman_watts_strogatz_graph(875,10,0.05),\n",
    "    nx.barabasi_albert_graph(875,5)\n",
    "]\n",
    "print(\"G(n,m) network: n =\" + str(len(generated_graphs[0].nodes)) +\"\\n\" + \"m=\" +str(len(generated_graphs[0].edges))+\"\\nL=\"+str(nx.average_shortest_path_length(generated_graphs[0]))+\"\\nL_r=\"+str(ut.lr(generated_graphs[0]))+\"\\nMAri=\"+str(cx.MAri(generated_graphs[0]))+\"\\nOdC=\"+str(cx.OdC(generated_graphs[0]))+\"\\n\")\n",
    "print(\"WS network: n =\" + str(len(generated_graphs[1].nodes)) +\"\\n\" + \"m=\" +str(len(generated_graphs[1].edges))+\"\\nL=\"+str(nx.average_shortest_path_length(generated_graphs[1]))+\"\\nL_r=\"+str(ut.lr(generated_graphs[1]))+\"\\nMAri=\"+str(cx.MAri(generated_graphs[1]))+\"\\nOdC=\"+str(cx.OdC(generated_graphs[1]))+\"\\n\")\n",
    "print(\"NW network: n =\" + str(len(generated_graphs[2].nodes)) +\"\\n\" + \"m=\" +str(len(generated_graphs[2].edges))+\"\\nL=\"+str(nx.average_shortest_path_length(generated_graphs[2]))+\"\\nL_r=\"+str(ut.lr(generated_graphs[2]))+\"\\nMAri=\"+str(cx.MAri(generated_graphs[2]))+\"\\nOdC=\"+str(cx.OdC(generated_graphs[2]))+\"\\n\")\n",
    "print(\"BA network: n =\" + str(len(generated_graphs[3].nodes)) +\"\\n\" + \"m=\" +str(len(generated_graphs[3].edges))+\"\\nL=\"+str(nx.average_shortest_path_length(generated_graphs[3]))+\"\\nL_r=\"+str(ut.lr(generated_graphs[3]))+\"\\nMAri=\"+str(cx.MAri(generated_graphs[3]))+\"\\nOdC=\"+str(cx.OdC(generated_graphs[3]))+\"\\n\")"
   ]
  },
  {
   "cell_type": "code",
   "execution_count": 11,
   "id": "f492edbc",
   "metadata": {},
   "outputs": [],
   "source": [
    "l_gg_ratio = [nx.average_shortest_path_length(item)/ut.lr(item) for item in generated_graphs]\n",
    "gg_result = [cx.MAri(item) for item in generated_graphs]"
   ]
  },
  {
   "cell_type": "code",
   "execution_count": 29,
   "id": "55703428",
   "metadata": {},
   "outputs": [
    {
     "name": "stderr",
     "output_type": "stream",
     "text": [
      "The PostScript backend does not support transparency; partially transparent artists will be rendered opaque.\n",
      "The PostScript backend does not support transparency; partially transparent artists will be rendered opaque.\n"
     ]
    },
    {
     "data": {
      "image/png": "[encoded data removed]",
      "text/plain": [
       "<Figure size 1152x576 with 1 Axes>"
      ]
     },
     "metadata": {
      "needs_background": "light"
     },
     "output_type": "display_data"
    }
   ],
   "source": [
    "plt.figure(figsize=(16,8))\n",
    "l_ratio = [item0/item1 for item0,item1 in zip(l,lr)]\n",
    "l_ratio_bus = [item0/item1 for item0,item1 in zip(l_bus,lr_bus)]\n",
    "l_ratio_bus_m = [item0/item1 for item0,item1 in zip(l_bus_m,lr_bus_m)]\n",
    "plt.scatter(l_ratio,result_g,color = \"black\",s=50,label = \"Real networks\")\n",
    "plt.scatter(l_ratio_bus,result_bus,color = \"red\",s=50,marker = \"x\",label =\"Bus networks\")\n",
    "plt.scatter(l_ratio_bus_m,result_bus_m,color = \"blue\",marker = \"^\",s=50,label = \"Modified bus networks\")\n",
    "plt.scatter(l_gg_ratio,gg_result,color = \"green\",marker = \"s\",s=50,label = \"Generated graphs\")\n",
    "plt.legend(fontsize = 15)\n",
    "plt.xlabel(\"$L/L_r$\",fontsize = 20)\n",
    "plt.ylabel(\"$MAri$\",fontsize = 20)\n",
    "plt.yticks([0,0.25,0.5,0.75,1])\n",
    "\n",
    "\n",
    "for i in range(len(index)):\n",
    "    if i !=2:\n",
    "        plt.annotate(str(i+1),(l_ratio[i]+0.02,result_g[i]+0.02),fontsize= 15,color = \"grey\")\n",
    "for i in range(len(index)):\n",
    "    plt.annotate(str(i+7),(l_ratio_bus[i]+0.02,result_bus[i]+0.02),fontsize= 15,color = \"grey\")\n",
    "for i in range(len(index)):\n",
    "    plt.annotate(str(i+13),(l_ratio_bus_m[i]+0.02,result_bus_m[i]+0.02),fontsize= 15,color = \"grey\")\n",
    "for i in range(len(generated_graphs)):\n",
    "    if i!= 1:\n",
    "        plt.annotate(str(i+19),(l_gg_ratio[i]+0.02,gg_result[i]+0.016),fontsize= 15,color = \"grey\")\n",
    "plt.annotate(3,(1,0.92),fontsize= 15,color = \"grey\")\n",
    "plt.annotate(20,(1.55,0.93),fontsize=15,color = \"grey\")\n",
    "plt.savefig(\"figures/real_networks.eps\",format = \"eps\")"
   ]
  },
  {
   "cell_type": "code",
   "execution_count": null,
   "id": "e65459c7",
   "metadata": {},
   "outputs": [],
   "source": [
    "for i in range(len(graphs)):\n",
    "    print(\"OdC - \" + index[i] + \" - \" + str(cx.OdC(graphs[i])))\n",
    "for i in range(len(bus)):\n",
    "    print(\"OdC - \" + index_bus[i] + \" - \" + str(cx.OdC(bus[i])))\n",
    "for i in range(len(bus_m)):\n",
    "    print(\"OdC - m_\" + index_bus[i] + \" - \" + str(cx.OdC(bus_m[i])))"
   ]
  }
 ],
 "metadata": {
  "kernelspec": {
   "display_name": "Python 3",
   "language": "python",
   "name": "python3"
  },
  "language_info": {
   "codemirror_mode": {
    "name": "ipython",
    "version": 3
   },
   "file_extension": ".py",
   "mimetype": "text/x-python",
   "name": "python",
   "nbconvert_exporter": "python",
   "pygments_lexer": "ipython3",
   "version": "3.8.8"
  }
 },
 "nbformat": 4,
 "nbformat_minor": 5
}
