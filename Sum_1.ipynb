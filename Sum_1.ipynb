{
 "cells": [
  {
   "cell_type": "code",
   "execution_count": 11,
   "id": "1de51565",
   "metadata": {},
   "outputs": [],
   "source": [
    "import pandas as pd\n",
    "import networkx as nx\n",
    "import utilities as ut"
   ]
  },
  {
   "cell_type": "code",
   "execution_count": 12,
   "id": "dbd85e3a",
   "metadata": {},
   "outputs": [],
   "source": [
    "index = [\"dolphins\",\"pdzbase\",\"hamsterster\",\"Roget\",\"flight\",\"GBPT_train\"]\n",
    "index_bus = [\"london\",\"paris\",\"berlin\",\"sydney\",\"detroit\",\"beijing\"]\n",
    "load_path = [\"real_networks/processed/\"+item+\".csv\" for item in index]\n",
    "load_path_bus = [\"bus/processed/\"+item+\".csv\" for item in index_bus]\n",
    "load_path_bus_m = [\"bus/modified/m_\"+item+\".csv\" for item in index_bus]\n",
    "graphs = [ut.df_to_network(pd.read_csv(item)) for item in load_path]\n",
    "bus = [ut.df_to_network(pd.read_csv(item)) for item in load_path_bus]\n",
    "bus_m = [ut.df_to_network(pd.read_csv(item)) for item in load_path_bus_m]"
   ]
  },
  {
   "cell_type": "code",
   "execution_count": null,
   "id": "9d1af148",
   "metadata": {},
   "outputs": [
    {
     "name": "stdout",
     "output_type": "stream",
     "text": [
      "L - dolphins - 3.3569539925965097\n",
      "L - pdzbase - 5.326086956521739\n",
      "L - hamsterster - 3.216885407901945\n",
      "L - Roget - 4.075388889226598\n",
      "L - flight - 4.103241167898093\n",
      "L - GBPT_train - 10.38356882733828\n"
     ]
    }
   ],
   "source": [
    "l = [nx.average_shortest_path_length(g) for g in graphs]\n",
    "for i in range(len(index)):\n",
    "    print(\"L - \"+index[i]+\" - \" + str(l[i]))         \n",
    "l_bus = [nx.average_shortest_path_length(g) for g in bus]\n",
    "for i in range(len(index_bus)):\n",
    "    print(\"L - \"+index[i]+\" - \" + str(l_bus[i]))  \n",
    "l_bus_m = [nx.average_shortest_path_length(g) for g in bus_m]\n",
    "for i in range(len(index_bus)):\n",
    "    print(\"L - m_\"+index[i]+\" - \" + str(l_bus[i]))"
   ]
  },
  {
   "cell_type": "code",
   "execution_count": null,
   "id": "e56d80a8",
   "metadata": {},
   "outputs": [],
   "source": [
    "lr = [ut.lr(g) for g in graphs]\n",
    "for i in range(len(index)):\n",
    "    print(\"Lr - \"+index[i]+\" - \" + str(l[i]))         \n",
    "lr_bus = [ut.lr(g) for g in bus]\n",
    "for i in range(len(index_bus)):\n",
    "    print(\"Lr - \"+index[i]+\" - \" + str(l_bus[i]))  \n",
    "lr_bus_m = [ut.lr(g) for g in bus_m]\n",
    "for i in range(len(index_bus)):\n",
    "    print(\"Lr - m_\"+index[i]+\" - \" + str(l_bus[i]))"
   ]
  }
 ],
 "metadata": {
  "kernelspec": {
   "display_name": "Python 3",
   "language": "python",
   "name": "python3"
  },
  "language_info": {
   "codemirror_mode": {
    "name": "ipython",
    "version": 3
   },
   "file_extension": ".py",
   "mimetype": "text/x-python",
   "name": "python",
   "nbconvert_exporter": "python",
   "pygments_lexer": "ipython3",
   "version": "3.8.8"
  }
 },
 "nbformat": 4,
 "nbformat_minor": 5
}
